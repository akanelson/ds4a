{
 "cells": [
  {
   "cell_type": "code",
   "execution_count": 112,
   "metadata": {},
   "outputs": [],
   "source": [
    "%matplotlib inline\n",
    "import pandas as pd\n",
    "import numpy as np\n",
    "import matplotlib.pyplot as plt\n",
    "import random\n",
    "\n",
    "import plotly.graph_objects as go\n",
    "\n",
    "from practicum_utils import get_loggi_files, global_connect, run_query, explained_time, careful_query"
   ]
  },
  {
   "cell_type": "code",
   "execution_count": 3,
   "metadata": {},
   "outputs": [],
   "source": [
    "db = global_connect()"
   ]
  },
  {
   "cell_type": "markdown",
   "metadata": {},
   "source": [
    "Select all drivers in itineraries that at least finished one itinerary"
   ]
  },
  {
   "cell_type": "code",
   "execution_count": 32,
   "metadata": {},
   "outputs": [],
   "source": [
    "df_itdr = careful_query(\"SELECT DISTINCT(driver_id) FROM itineraries WHERE status='finished'\")"
   ]
  },
  {
   "cell_type": "code",
   "execution_count": 90,
   "metadata": {},
   "outputs": [
    {
     "name": "stdout",
     "output_type": "stream",
     "text": [
      "<class 'pandas.core.frame.DataFrame'>\n",
      "RangeIndex: 2661 entries, 0 to 2660\n",
      "Data columns (total 1 columns):\n",
      " #   Column     Non-Null Count  Dtype \n",
      "---  ------     --------------  ----- \n",
      " 0   driver_id  2661 non-null   object\n",
      "dtypes: object(1)\n",
      "memory usage: 20.9+ KB\n"
     ]
    }
   ],
   "source": [
    "df_itdr.info()"
   ]
  },
  {
   "cell_type": "code",
   "execution_count": 93,
   "metadata": {},
   "outputs": [
    {
     "name": "stdout",
     "output_type": "stream",
     "text": [
      "<class 'pandas.core.frame.DataFrame'>\n",
      "RangeIndex: 2717 entries, 0 to 2716\n",
      "Data columns (total 1 columns):\n",
      " #   Column     Non-Null Count  Dtype \n",
      "---  ------     --------------  ----- \n",
      " 0   driver_id  2716 non-null   object\n",
      "dtypes: object(1)\n",
      "memory usage: 21.4+ KB\n"
     ]
    }
   ],
   "source": [
    "careful_query(\"SELECT DISTINCT(driver_id) FROM itineraries\").info()"
   ]
  },
  {
   "cell_type": "markdown",
   "metadata": {},
   "source": [
    "Number of drivers that never finished an itinerary: 2717 - 2661 = 56 (we shoud investigate them later)  \n",
    "Now let's see one driver that has finished something"
   ]
  },
  {
   "cell_type": "code",
   "execution_count": 94,
   "metadata": {},
   "outputs": [
    {
     "data": {
      "text/html": [
       "<div>\n",
       "<style scoped>\n",
       "    .dataframe tbody tr th:only-of-type {\n",
       "        vertical-align: middle;\n",
       "    }\n",
       "\n",
       "    .dataframe tbody tr th {\n",
       "        vertical-align: top;\n",
       "    }\n",
       "\n",
       "    .dataframe thead th {\n",
       "        text-align: right;\n",
       "    }\n",
       "</style>\n",
       "<table border=\"1\" class=\"dataframe\">\n",
       "  <thead>\n",
       "    <tr style=\"text-align: right;\">\n",
       "      <th></th>\n",
       "      <th>driver_id</th>\n",
       "    </tr>\n",
       "  </thead>\n",
       "  <tbody>\n",
       "    <tr>\n",
       "      <th>0</th>\n",
       "      <td>eb271ab2ce67cf017d159cf66a69ba84</td>\n",
       "    </tr>\n",
       "    <tr>\n",
       "      <th>1</th>\n",
       "      <td>5408f7b12d5ce92ec0412efbeacfb59a</td>\n",
       "    </tr>\n",
       "    <tr>\n",
       "      <th>2</th>\n",
       "      <td>3d53e718a04640e25c111955567efd3d</td>\n",
       "    </tr>\n",
       "    <tr>\n",
       "      <th>3</th>\n",
       "      <td>0dca26b7239c1259f14b21c8b86555b7</td>\n",
       "    </tr>\n",
       "    <tr>\n",
       "      <th>4</th>\n",
       "      <td>2a0112c852363524351f806318558f8b</td>\n",
       "    </tr>\n",
       "  </tbody>\n",
       "</table>\n",
       "</div>"
      ],
      "text/plain": [
       "                          driver_id\n",
       "0  eb271ab2ce67cf017d159cf66a69ba84\n",
       "1  5408f7b12d5ce92ec0412efbeacfb59a\n",
       "2  3d53e718a04640e25c111955567efd3d\n",
       "3  0dca26b7239c1259f14b21c8b86555b7\n",
       "4  2a0112c852363524351f806318558f8b"
      ]
     },
     "execution_count": 94,
     "metadata": {},
     "output_type": "execute_result"
    }
   ],
   "source": [
    "df_itdr.head()"
   ]
  },
  {
   "cell_type": "markdown",
   "metadata": {},
   "source": [
    "We will choose the first in list. Now let's obtain his availability data"
   ]
  },
  {
   "cell_type": "code",
   "execution_count": 95,
   "metadata": {},
   "outputs": [
    {
     "name": "stdout",
     "output_type": "stream",
     "text": [
      "<class 'pandas.core.frame.DataFrame'>\n",
      "RangeIndex: 4622 entries, 0 to 4621\n",
      "Data columns (total 8 columns):\n",
      " #   Column               Non-Null Count  Dtype         \n",
      "---  ------               --------------  -----         \n",
      " 0   distribution_center  4622 non-null   int64         \n",
      " 1   id                   4622 non-null   object        \n",
      " 2   driver_id            4622 non-null   object        \n",
      " 3   itinerary_id         915 non-null    object        \n",
      " 4   lat                  4622 non-null   float64       \n",
      " 5   lng                  4622 non-null   float64       \n",
      " 6   sent                 4622 non-null   datetime64[ns]\n",
      " 7   transport_type       4622 non-null   int64         \n",
      "dtypes: datetime64[ns](1), float64(2), int64(2), object(3)\n",
      "memory usage: 289.0+ KB\n"
     ]
    }
   ],
   "source": [
    "df_av = careful_query(\"\"\"\n",
    "SELECT *\n",
    "FROM availabilities\n",
    "WHERE driver_id = 'eb271ab2ce67cf017d159cf66a69ba84';\n",
    "\"\"\")\n",
    "df_av.info()"
   ]
  },
  {
   "cell_type": "markdown",
   "metadata": {},
   "source": [
    "There are 4622 rows with this driver information. In 915 of them the driver was working over some itineraries.  \n",
    "Now I am trying to see his itineraries moves"
   ]
  },
  {
   "cell_type": "code",
   "execution_count": 97,
   "metadata": {},
   "outputs": [
    {
     "data": {
      "text/plain": [
       "171"
      ]
     },
     "execution_count": 97,
     "metadata": {},
     "output_type": "execute_result"
    }
   ],
   "source": [
    "df_av.itinerary_id.nunique()"
   ]
  },
  {
   "cell_type": "markdown",
   "metadata": {},
   "source": [
    "Of this uniques one of them is None, meaning that he was just available to receive assignations.  \n",
    "There are many unique itineraries. Too much information to see on a map. Let's start by filtering some period"
   ]
  },
  {
   "cell_type": "code",
   "execution_count": 98,
   "metadata": {},
   "outputs": [],
   "source": [
    "df_av.set_index('sent', inplace=True)"
   ]
  },
  {
   "cell_type": "code",
   "execution_count": 99,
   "metadata": {},
   "outputs": [
    {
     "data": {
      "image/png": "[encoded data removed]",
      "text/plain": [
       "<Figure size 1080x360 with 1 Axes>"
      ]
     },
     "metadata": {
      "needs_background": "light"
     },
     "output_type": "display_data"
    }
   ],
   "source": [
    "df_av.groupby(df_av.index.to_period('W'))['itinerary_id'].nunique().plot.bar(figsize=(15,5))\n",
    "plt.xticks(rotation=90);"
   ]
  },
  {
   "cell_type": "markdown",
   "metadata": {},
   "source": [
    "We are going to select the week from 2019-12-16 to 2019-12-22 inclusive"
   ]
  },
  {
   "cell_type": "code",
   "execution_count": 108,
   "metadata": {},
   "outputs": [],
   "source": [
    "df_selection = df_av[(df_av.index >= '2019-12-16') & (df_av.index < '2019-12-23')]"
   ]
  },
  {
   "cell_type": "code",
   "execution_count": 160,
   "metadata": {},
   "outputs": [],
   "source": [
    "# Where do we want to locate the map center?\n",
    "use_selection_center = True\n",
    "\n",
    "if use_selection_center:\n",
    "    # center at our locations average\n",
    "    longitude = df_selection['lng'].values.mean()\n",
    "    latitude = df_selection['lat'].values.mean()\n",
    "else:\n",
    "    # center at San Pablo, Brazil\n",
    "    latitude = -23.5475006\n",
    "    longitude = -46.6361084"
   ]
  },
  {
   "cell_type": "code",
   "execution_count": 161,
   "metadata": {},
   "outputs": [],
   "source": [
    "# Reference for mapbox layers\n",
    "# https://plotly.com/python/mapbox-layers/\n",
    "\n",
    "# Reference for scattermapbox (how to show text)\n",
    "# https://plotly.com/python/reference/#scattermapbox"
   ]
  },
  {
   "cell_type": "code",
   "execution_count": 164,
   "metadata": {},
   "outputs": [],
   "source": [
    "#all_map_styles = [\"white-bg\", \"open-street-map\", \"carto-positron\", \"carto-darkmatter\",\n",
    "#                  \"stamen-terrain\", \"stamen-toner\", \"stamen-watercolor\"]"
   ]
  },
  {
   "cell_type": "code",
   "execution_count": 165,
   "metadata": {},
   "outputs": [
    {
     "data": {
      "application/vnd.plotly.v1+json": {
       "config": {
        "plotlyServerURL": "https://plot.ly"
       },
       "data": [
        {
         "lat": [
          -23.608460728729668,
          -23.624316061043483,
          -23.631588555054293,
          -23.65196225923976
         ],
         "lon": [
          -46.552723502116876,
          -46.54187149219059,
          -46.54382476170737,
          -46.534140276065585
         ],
         "marker": {
          "size": 10
         },
         "mode": "markers+lines",
         "name": "0135a289078455a8ee1b73984bb9ff67",
         "text": [
          "2019-12-19T14:10:00",
          "2019-12-19T14:15:00",
          "2019-12-19T14:20:00",
          "2019-12-19T14:25:00"
         ],
         "type": "scattermapbox"
        },
        {
         "lat": [
          -23.652105307464144,
          -23.638350943006863,
          -23.62745342206498,
          -23.62743024977902,
          -23.627489541049414,
          -23.639703332432493,
          -23.65204119671269
         ],
         "lon": [
          -46.53569102063658,
          -46.5351842094913,
          -46.530131075508656,
          -46.53013403525274,
          -46.530083010504306,
          -46.53847961487778,
          -46.53559470983364
         ],
         "marker": {
          "size": 10
         },
         "mode": "markers+lines",
         "name": "016dd1945c4a150d52f2e82245a45258",
         "text": [
          "2019-12-20T17:50:00",
          "2019-12-20T17:55:00",
          "2019-12-20T18:00:00",
          "2019-12-20T18:05:00",
          "2019-12-20T18:10:00",
          "2019-12-20T18:20:00",
          "2019-12-20T18:25:00"
         ],
         "type": "scattermapbox"
        },
        {
         "lat": [
          -23.62942081442669,
          -23.616494926197173,
          -23.615103431989123,
          -23.60379603694134,
          -23.594782316968065,
          -23.59899134213286
         ],
         "lon": [
          -46.54874971792925,
          -46.55754935862943,
          -46.579527582769124,
          -46.59466092580183,
          -46.60839826738776,
          -46.62362214160678
         ],
         "marker": {
          "size": 10
         },
         "mode": "markers+lines",
         "name": "1a431f2f4cc92063247f2d22c2ba3ca8",
         "text": [
          "2019-12-19T04:00:00",
          "2019-12-19T04:05:00",
          "2019-12-19T04:10:00",
          "2019-12-19T04:15:00",
          "2019-12-19T04:20:00",
          "2019-12-19T04:25:00"
         ],
         "type": "scattermapbox"
        },
        {
         "lat": [
          -23.652444091994457,
          -23.647170869248864,
          -23.636445081487622
         ],
         "lon": [
          -46.5338249758865,
          -46.53785169693718,
          -46.543368653758655
         ],
         "marker": {
          "size": 10
         },
         "mode": "markers+lines",
         "name": "256ea59dac50761b909031afa46409bc",
         "text": [
          "2019-12-21T15:15:00",
          "2019-12-21T15:20:00",
          "2019-12-21T15:25:00"
         ],
         "type": "scattermapbox"
        },
        {
         "lat": [
          -23.65099609005463,
          -23.648709552536086,
          -23.64875020887625,
          -23.6487320582527
         ],
         "lon": [
          -46.53587167487074,
          -46.54530907145182,
          -46.545260508977115,
          -46.54522638329556
         ],
         "marker": {
          "size": 10
         },
         "mode": "markers+lines",
         "name": "2aa22ba2cc1d150f46503959bc639b0f",
         "text": [
          "2019-12-22T18:45:00",
          "2019-12-22T18:50:00",
          "2019-12-22T18:55:00",
          "2019-12-22T19:00:00"
         ],
         "type": "scattermapbox"
        },
        {
         "lat": [
          -23.635805366092736
         ],
         "lon": [
          -46.6146459142947
         ],
         "marker": {
          "size": 10
         },
         "mode": "markers+lines",
         "name": "5a7122ed519146bf9d0d123e699a96b3",
         "text": [
          "2019-12-19T06:40:00"
         ],
         "type": "scattermapbox"
        },
        {
         "lat": [
          -23.640808357440143,
          -23.64069749226216
         ],
         "lon": [
          -46.52933560401089,
          -46.529102274345206
         ],
         "marker": {
          "size": 10
         },
         "mode": "markers+lines",
         "name": "6aaca54fe45b174081a725b500cfaa26",
         "text": [
          "2019-12-22T09:05:00",
          "2019-12-22T09:05:00"
         ],
         "type": "scattermapbox"
        },
        {
         "lat": [
          -23.650642165435986,
          -23.65154039572654,
          -23.64440495140605,
          -23.63256237268547
         ],
         "lon": [
          -46.539729460661164,
          -46.538401863226916,
          -46.54006144198937,
          -46.549271437879845
         ],
         "marker": {
          "size": 10
         },
         "mode": "markers+lines",
         "name": "7340c09cbdb77b512954c9942ffbd558",
         "text": [
          "2019-12-20T10:30:00",
          "2019-12-20T10:35:00",
          "2019-12-20T10:40:00",
          "2019-12-20T10:45:00"
         ],
         "type": "scattermapbox"
        },
        {
         "lat": [
          -23.600283123860454,
          -23.59763826716946
         ],
         "lon": [
          -46.54296835492428,
          -46.541405794180086
         ],
         "marker": {
          "size": 10
         },
         "mode": "markers+lines",
         "name": "73e3c83742795a9ef769031d91500c27",
         "text": [
          "2019-12-20T13:15:00",
          "2019-12-20T13:20:00"
         ],
         "type": "scattermapbox"
        },
        {
         "lat": [
          -23.647235693645886,
          -23.65082637741244,
          -23.650847289815225,
          -23.650798953352226
         ],
         "lon": [
          -46.525797071561605,
          -46.53883526592352,
          -46.53884734290646,
          -46.538767729242494
         ],
         "marker": {
          "size": 10
         },
         "mode": "markers+lines",
         "name": "8af44f8c00d38935a19921fe1d778385",
         "text": [
          "2019-12-22T11:15:00",
          "2019-12-22T11:20:00",
          "2019-12-22T11:25:00",
          "2019-12-22T11:55:00"
         ],
         "type": "scattermapbox"
        },
        {
         "lat": [
          -23.659395784492926
         ],
         "lon": [
          -46.57568826351832
         ],
         "marker": {
          "size": 10
         },
         "mode": "markers+lines",
         "name": "8ecc53cb9da59b38ccc7929a2b717a92",
         "text": [
          "2019-12-21T16:55:00"
         ],
         "type": "scattermapbox"
        },
        {
         "lat": [
          -23.651344830924067
         ],
         "lon": [
          -46.53454241196017
         ],
         "marker": {
          "size": 10
         },
         "mode": "markers+lines",
         "name": "956020d498e232207223ca9748392e1a",
         "text": [
          "2019-12-21T15:40:00"
         ],
         "type": "scattermapbox"
        },
        {
         "lat": [
          -23.625353368775134,
          -23.623523172398126,
          -23.625057721530883,
          -23.63410191222816
         ],
         "lon": [
          -46.614933650631855,
          -46.61188577184176,
          -46.59883978317548,
          -46.586488199790786
         ],
         "marker": {
          "size": 10
         },
         "mode": "markers+lines",
         "name": "974720bcc83a405ceda4ca450184bf9c",
         "text": [
          "2019-12-20T09:50:00",
          "2019-12-20T09:55:00",
          "2019-12-20T10:00:00",
          "2019-12-20T10:05:00"
         ],
         "type": "scattermapbox"
        },
        {
         "lat": [
          -23.654172176026318
         ],
         "lon": [
          -46.549155847668885
         ],
         "marker": {
          "size": 10
         },
         "mode": "markers+lines",
         "name": "ab518850ba5e7992e6f5a6da5c7b3417",
         "text": [
          "2019-12-18T09:35:00"
         ],
         "type": "scattermapbox"
        },
        {
         "lat": [
          -23.60981501832226,
          -23.609737570548113,
          -23.609609330319262,
          -23.60981773292587,
          -23.61299954576909,
          -23.627349289436665,
          -23.631363184309173,
          -23.649179560175146,
          -23.650999322738873
         ],
         "lon": [
          -46.56822341953548,
          -46.56773105418649,
          -46.56771927530696,
          -46.56780863861534,
          -46.5680601650324,
          -46.550577537321445,
          -46.54528067968192,
          -46.53835981646041,
          -46.53586910362233
         ],
         "marker": {
          "size": 10
         },
         "mode": "markers+lines",
         "name": "ad0a3d059b6a95d02716500318036dbe",
         "text": [
          "2019-12-18T07:05:00",
          "2019-12-18T07:10:00",
          "2019-12-18T07:15:00",
          "2019-12-18T07:25:00",
          "2019-12-18T07:30:00",
          "2019-12-18T07:40:00",
          "2019-12-18T07:45:00",
          "2019-12-18T08:00:00",
          "2019-12-18T08:05:00"
         ],
         "type": "scattermapbox"
        },
        {
         "lat": [
          -23.650573541009166,
          -23.644034734291104,
          -23.636652902641202,
          -23.618379861814088
         ],
         "lon": [
          -46.57087451781282,
          -46.56874953850879,
          -46.55871080921097,
          -46.55380432264695
         ],
         "marker": {
          "size": 10
         },
         "mode": "markers+lines",
         "name": "af2fc09671ee76ff6cd3c87101c20a62",
         "text": [
          "2019-12-20T19:10:00",
          "2019-12-20T19:15:00",
          "2019-12-20T19:20:00",
          "2019-12-20T19:25:00"
         ],
         "type": "scattermapbox"
        },
        {
         "lat": [
          -23.628431565561048,
          -23.648859769066362,
          -23.649068825100922,
          -23.64183168325818
         ],
         "lon": [
          -46.58116569157969,
          -46.57534652467881,
          -46.57048413426233,
          -46.570734636790185
         ],
         "marker": {
          "size": 10
         },
         "mode": "markers+lines",
         "name": "c1bda31474677deabdb5a2a310cfc85c",
         "text": [
          "2019-12-20T18:50:00",
          "2019-12-20T18:55:00",
          "2019-12-20T19:00:00",
          "2019-12-20T19:05:00"
         ],
         "type": "scattermapbox"
        },
        {
         "lat": [
          -23.60822731942172,
          -23.6095005823415,
          -23.609687716030813,
          -23.607740511018083,
          -23.621967896670135,
          -23.631723482798442,
          -23.63830071943698,
          -23.647357440346635,
          -23.656054306091015,
          -23.63294882918894,
          -23.60939356683799
         ],
         "lon": [
          -46.57236572350098,
          -46.5677970818036,
          -46.56760032586795,
          -46.56726711570585,
          -46.56793664025613,
          -46.56571084219545,
          -46.56476165290802,
          -46.576718524219686,
          -46.57712276088264,
          -46.58276529787647,
          -46.5676548069447
         ],
         "marker": {
          "size": 10
         },
         "mode": "markers+lines",
         "name": "df6321ea69a26d2f7d994dc981580f3a",
         "text": [
          "2019-12-19T10:45:00",
          "2019-12-19T10:55:00",
          "2019-12-19T11:00:00",
          "2019-12-19T11:05:00",
          "2019-12-19T11:10:00",
          "2019-12-19T11:15:00",
          "2019-12-19T11:20:00",
          "2019-12-19T11:25:00",
          "2019-12-19T13:00:00",
          "2019-12-19T13:05:00",
          "2019-12-19T13:20:00"
         ],
         "type": "scattermapbox"
        },
        {
         "lat": [
          -23.650356925980883,
          -23.651061601283143,
          -23.64846504353652,
          -23.645801622625925,
          -23.647542497244302,
          -23.64839790505287,
          -23.641892954470897,
          -23.644803745242026
         ],
         "lon": [
          -46.60608677342937,
          -46.601119756173446,
          -46.598871515667,
          -46.598536037457315,
          -46.60018061939324,
          -46.605082855575155,
          -46.60836261716296,
          -46.60956576990825
         ],
         "marker": {
          "size": 10
         },
         "mode": "markers+lines",
         "name": "e27f0db17ba9a60bdf1f32e0353f695a",
         "text": [
          "2019-12-19T05:50:00",
          "2019-12-19T06:00:00",
          "2019-12-19T06:05:00",
          "2019-12-19T06:10:00",
          "2019-12-19T06:15:00",
          "2019-12-19T06:20:00",
          "2019-12-19T06:25:00",
          "2019-12-19T06:30:00"
         ],
         "type": "scattermapbox"
        },
        {
         "lat": [
          -23.624186259553195,
          -23.61322153743111,
          -23.609430725349288,
          -23.60970481378755,
          -23.609697136504998,
          -23.609875379729054,
          -23.60976657471378,
          -23.609763609132294,
          -23.60966662865163,
          -23.603899274007087,
          -23.605587029962997,
          -23.59806541541826,
          -23.589682981646902,
          -23.588340782893695,
          -23.586350093178005,
          -23.580360270338645,
          -23.57886300322025,
          -23.577939620686255,
          -23.580778168825724,
          -23.583473737877416,
          -23.584934428602224,
          -23.584896570518
         ],
         "lon": [
          -46.547789475160975,
          -46.56785106292214,
          -46.56776762167939,
          -46.567523249587396,
          -46.56752927323416,
          -46.567853930947564,
          -46.56778392902657,
          -46.56762650493235,
          -46.56756125311676,
          -46.56059056837213,
          -46.552028784717784,
          -46.55018583636595,
          -46.54410359661824,
          -46.53943115854498,
          -46.535687463381706,
          -46.53749904514059,
          -46.536410786015566,
          -46.531991994281235,
          -46.53292336567266,
          -46.53220561495633,
          -46.523712501840855,
          -46.51735876591658
         ],
         "marker": {
          "size": 10
         },
         "mode": "markers+lines",
         "name": "f12e02fb4170a6c069272de7d0427944",
         "text": [
          "2019-12-20T03:55:00",
          "2019-12-20T04:00:00",
          "2019-12-20T04:05:00",
          "2019-12-20T04:15:00",
          "2019-12-20T04:20:00",
          "2019-12-20T04:25:00",
          "2019-12-20T04:30:00",
          "2019-12-20T04:35:00",
          "2019-12-20T04:40:00",
          "2019-12-20T04:45:00",
          "2019-12-20T04:50:00",
          "2019-12-20T04:55:00",
          "2019-12-20T05:00:00",
          "2019-12-20T05:05:00",
          "2019-12-20T05:10:00",
          "2019-12-20T05:15:00",
          "2019-12-20T05:20:00",
          "2019-12-20T05:25:00",
          "2019-12-20T05:30:00",
          "2019-12-20T05:35:00",
          "2019-12-20T05:40:00",
          "2019-12-20T05:45:00"
         ],
         "type": "scattermapbox"
        },
        {
         "lat": [
          -23.60960692230336
         ],
         "lon": [
          -46.56762050245306
         ],
         "marker": {
          "size": 10
         },
         "mode": "markers+lines",
         "name": "f8a7d4d0bda68889988d5104aceb3203",
         "text": [
          "2019-12-18T06:40:00"
         ],
         "type": "scattermapbox"
        }
       ],
       "layout": {
        "geo": {
         "fitbounds": "locations"
        },
        "mapbox": {
         "center": {
          "lat": -23.63297125196098,
          "lon": -46.555569218561445
         },
         "style": "carto-positron",
         "zoom": 12
        },
        "margin": {
         "b": 0,
         "l": 0,
         "r": 0,
         "t": 0
        },
        "template": {
         "data": {
          "bar": [
           {
            "error_x": {
             "color": "#2a3f5f"
            },
            "error_y": {
             "color": "#2a3f5f"
            },
            "marker": {
             "line": {
              "color": "#E5ECF6",
              "width": 0.5
             }
            },
            "type": "bar"
           }
          ],
          "barpolar": [
           {
            "marker": {
             "line": {
              "color": "#E5ECF6",
              "width": 0.5
             }
            },
            "type": "barpolar"
           }
          ],
          "carpet": [
           {
            "aaxis": {
             "endlinecolor": "#2a3f5f",
             "gridcolor": "white",
             "linecolor": "white",
             "minorgridcolor": "white",
             "startlinecolor": "#2a3f5f"
            },
            "baxis": {
             "endlinecolor": "#2a3f5f",
             "gridcolor": "white",
             "linecolor": "white",
             "minorgridcolor": "white",
             "startlinecolor": "#2a3f5f"
            },
            "type": "carpet"
           }
          ],
          "choropleth": [
           {
            "colorbar": {
             "outlinewidth": 0,
             "ticks": ""
            },
            "type": "choropleth"
           }
          ],
          "contour": [
           {
            "colorbar": {
             "outlinewidth": 0,
             "ticks": ""
            },
            "colorscale": [
             [
              0,
              "#0d0887"
             ],
             [
              0.1111111111111111,
              "#46039f"
             ],
             [
              0.2222222222222222,
              "#7201a8"
             ],
             [
              0.3333333333333333,
              "#9c179e"
             ],
             [
              0.4444444444444444,
              "#bd3786"
             ],
             [
              0.5555555555555556,
              "#d8576b"
             ],
             [
              0.6666666666666666,
              "#ed7953"
             ],
             [
              0.7777777777777778,
              "#fb9f3a"
             ],
             [
              0.8888888888888888,
              "#fdca26"
             ],
             [
              1,
              "#f0f921"
             ]
            ],
            "type": "contour"
           }
          ],
          "contourcarpet": [
           {
            "colorbar": {
             "outlinewidth": 0,
             "ticks": ""
            },
            "type": "contourcarpet"
           }
          ],
          "heatmap": [
           {
            "colorbar": {
             "outlinewidth": 0,
             "ticks": ""
            },
            "colorscale": [
             [
              0,
              "#0d0887"
             ],
             [
              0.1111111111111111,
              "#46039f"
             ],
             [
              0.2222222222222222,
              "#7201a8"
             ],
             [
              0.3333333333333333,
              "#9c179e"
             ],
             [
              0.4444444444444444,
              "#bd3786"
             ],
             [
              0.5555555555555556,
              "#d8576b"
             ],
             [
              0.6666666666666666,
              "#ed7953"
             ],
             [
              0.7777777777777778,
              "#fb9f3a"
             ],
             [
              0.8888888888888888,
              "#fdca26"
             ],
             [
              1,
              "#f0f921"
             ]
            ],
            "type": "heatmap"
           }
          ],
          "heatmapgl": [
           {
            "colorbar": {
             "outlinewidth": 0,
             "ticks": ""
            },
            "colorscale": [
             [
              0,
              "#0d0887"
             ],
             [
              0.1111111111111111,
              "#46039f"
             ],
             [
              0.2222222222222222,
              "#7201a8"
             ],
             [
              0.3333333333333333,
              "#9c179e"
             ],
             [
              0.4444444444444444,
              "#bd3786"
             ],
             [
              0.5555555555555556,
              "#d8576b"
             ],
             [
              0.6666666666666666,
              "#ed7953"
             ],
             [
              0.7777777777777778,
              "#fb9f3a"
             ],
             [
              0.8888888888888888,
              "#fdca26"
             ],
             [
              1,
              "#f0f921"
             ]
            ],
            "type": "heatmapgl"
           }
          ],
          "histogram": [
           {
            "marker": {
             "colorbar": {
              "outlinewidth": 0,
              "ticks": ""
             }
            },
            "type": "histogram"
           }
          ],
          "histogram2d": [
           {
            "colorbar": {
             "outlinewidth": 0,
             "ticks": ""
            },
            "colorscale": [
             [
              0,
              "#0d0887"
             ],
             [
              0.1111111111111111,
              "#46039f"
             ],
             [
              0.2222222222222222,
              "#7201a8"
             ],
             [
              0.3333333333333333,
              "#9c179e"
             ],
             [
              0.4444444444444444,
              "#bd3786"
             ],
             [
              0.5555555555555556,
              "#d8576b"
             ],
             [
              0.6666666666666666,
              "#ed7953"
             ],
             [
              0.7777777777777778,
              "#fb9f3a"
             ],
             [
              0.8888888888888888,
              "#fdca26"
             ],
             [
              1,
              "#f0f921"
             ]
            ],
            "type": "histogram2d"
           }
          ],
          "histogram2dcontour": [
           {
            "colorbar": {
             "outlinewidth": 0,
             "ticks": ""
            },
            "colorscale": [
             [
              0,
              "#0d0887"
             ],
             [
              0.1111111111111111,
              "#46039f"
             ],
             [
              0.2222222222222222,
              "#7201a8"
             ],
             [
              0.3333333333333333,
              "#9c179e"
             ],
             [
              0.4444444444444444,
              "#bd3786"
             ],
             [
              0.5555555555555556,
              "#d8576b"
             ],
             [
              0.6666666666666666,
              "#ed7953"
             ],
             [
              0.7777777777777778,
              "#fb9f3a"
             ],
             [
              0.8888888888888888,
              "#fdca26"
             ],
             [
              1,
              "#f0f921"
             ]
            ],
            "type": "histogram2dcontour"
           }
          ],
          "mesh3d": [
           {
            "colorbar": {
             "outlinewidth": 0,
             "ticks": ""
            },
            "type": "mesh3d"
           }
          ],
          "parcoords": [
           {
            "line": {
             "colorbar": {
              "outlinewidth": 0,
              "ticks": ""
             }
            },
            "type": "parcoords"
           }
          ],
          "pie": [
           {
            "automargin": true,
            "type": "pie"
           }
          ],
          "scatter": [
           {
            "marker": {
             "colorbar": {
              "outlinewidth": 0,
              "ticks": ""
             }
            },
            "type": "scatter"
           }
          ],
          "scatter3d": [
           {
            "line": {
             "colorbar": {
              "outlinewidth": 0,
              "ticks": ""
             }
            },
            "marker": {
             "colorbar": {
              "outlinewidth": 0,
              "ticks": ""
             }
            },
            "type": "scatter3d"
           }
          ],
          "scattercarpet": [
           {
            "marker": {
             "colorbar": {
              "outlinewidth": 0,
              "ticks": ""
             }
            },
            "type": "scattercarpet"
           }
          ],
          "scattergeo": [
           {
            "marker": {
             "colorbar": {
              "outlinewidth": 0,
              "ticks": ""
             }
            },
            "type": "scattergeo"
           }
          ],
          "scattergl": [
           {
            "marker": {
             "colorbar": {
              "outlinewidth": 0,
              "ticks": ""
             }
            },
            "type": "scattergl"
           }
          ],
          "scattermapbox": [
           {
            "marker": {
             "colorbar": {
              "outlinewidth": 0,
              "ticks": ""
             }
            },
            "type": "scattermapbox"
           }
          ],
          "scatterpolar": [
           {
            "marker": {
             "colorbar": {
              "outlinewidth": 0,
              "ticks": ""
             }
            },
            "type": "scatterpolar"
           }
          ],
          "scatterpolargl": [
           {
            "marker": {
             "colorbar": {
              "outlinewidth": 0,
              "ticks": ""
             }
            },
            "type": "scatterpolargl"
           }
          ],
          "scatterternary": [
           {
            "marker": {
             "colorbar": {
              "outlinewidth": 0,
              "ticks": ""
             }
            },
            "type": "scatterternary"
           }
          ],
          "surface": [
           {
            "colorbar": {
             "outlinewidth": 0,
             "ticks": ""
            },
            "colorscale": [
             [
              0,
              "#0d0887"
             ],
             [
              0.1111111111111111,
              "#46039f"
             ],
             [
              0.2222222222222222,
              "#7201a8"
             ],
             [
              0.3333333333333333,
              "#9c179e"
             ],
             [
              0.4444444444444444,
              "#bd3786"
             ],
             [
              0.5555555555555556,
              "#d8576b"
             ],
             [
              0.6666666666666666,
              "#ed7953"
             ],
             [
              0.7777777777777778,
              "#fb9f3a"
             ],
             [
              0.8888888888888888,
              "#fdca26"
             ],
             [
              1,
              "#f0f921"
             ]
            ],
            "type": "surface"
           }
          ],
          "table": [
           {
            "cells": {
             "fill": {
              "color": "#EBF0F8"
             },
             "line": {
              "color": "white"
             }
            },
            "header": {
             "fill": {
              "color": "#C8D4E3"
             },
             "line": {
              "color": "white"
             }
            },
            "type": "table"
           }
          ]
         },
         "layout": {
          "annotationdefaults": {
           "arrowcolor": "#2a3f5f",
           "arrowhead": 0,
           "arrowwidth": 1
          },
          "coloraxis": {
           "colorbar": {
            "outlinewidth": 0,
            "ticks": ""
           }
          },
          "colorscale": {
           "diverging": [
            [
             0,
             "#8e0152"
            ],
            [
             0.1,
             "#c51b7d"
            ],
            [
             0.2,
             "#de77ae"
            ],
            [
             0.3,
             "#f1b6da"
            ],
            [
             0.4,
             "#fde0ef"
            ],
            [
             0.5,
             "#f7f7f7"
            ],
            [
             0.6,
             "#e6f5d0"
            ],
            [
             0.7,
             "#b8e186"
            ],
            [
             0.8,
             "#7fbc41"
            ],
            [
             0.9,
             "#4d9221"
            ],
            [
             1,
             "#276419"
            ]
           ],
           "sequential": [
            [
             0,
             "#0d0887"
            ],
            [
             0.1111111111111111,
             "#46039f"
            ],
            [
             0.2222222222222222,
             "#7201a8"
            ],
            [
             0.3333333333333333,
             "#9c179e"
            ],
            [
             0.4444444444444444,
             "#bd3786"
            ],
            [
             0.5555555555555556,
             "#d8576b"
            ],
            [
             0.6666666666666666,
             "#ed7953"
            ],
            [
             0.7777777777777778,
             "#fb9f3a"
            ],
            [
             0.8888888888888888,
             "#fdca26"
            ],
            [
             1,
             "#f0f921"
            ]
           ],
           "sequentialminus": [
            [
             0,
             "#0d0887"
            ],
            [
             0.1111111111111111,
             "#46039f"
            ],
            [
             0.2222222222222222,
             "#7201a8"
            ],
            [
             0.3333333333333333,
             "#9c179e"
            ],
            [
             0.4444444444444444,
             "#bd3786"
            ],
            [
             0.5555555555555556,
             "#d8576b"
            ],
            [
             0.6666666666666666,
             "#ed7953"
            ],
            [
             0.7777777777777778,
             "#fb9f3a"
            ],
            [
             0.8888888888888888,
             "#fdca26"
            ],
            [
             1,
             "#f0f921"
            ]
           ]
          },
          "colorway": [
           "#636efa",
           "#EF553B",
           "#00cc96",
           "#ab63fa",
           "#FFA15A",
           "#19d3f3",
           "#FF6692",
           "#B6E880",
           "#FF97FF",
           "#FECB52"
          ],
          "font": {
           "color": "#2a3f5f"
          },
          "geo": {
           "bgcolor": "white",
           "lakecolor": "white",
           "landcolor": "#E5ECF6",
           "showlakes": true,
           "showland": true,
           "subunitcolor": "white"
          },
          "hoverlabel": {
           "align": "left"
          },
          "hovermode": "closest",
          "mapbox": {
           "style": "light"
          },
          "paper_bgcolor": "white",
          "plot_bgcolor": "#E5ECF6",
          "polar": {
           "angularaxis": {
            "gridcolor": "white",
            "linecolor": "white",
            "ticks": ""
           },
           "bgcolor": "#E5ECF6",
           "radialaxis": {
            "gridcolor": "white",
            "linecolor": "white",
            "ticks": ""
           }
          },
          "scene": {
           "xaxis": {
            "backgroundcolor": "#E5ECF6",
            "gridcolor": "white",
            "gridwidth": 2,
            "linecolor": "white",
            "showbackground": true,
            "ticks": "",
            "zerolinecolor": "white"
           },
           "yaxis": {
            "backgroundcolor": "#E5ECF6",
            "gridcolor": "white",
            "gridwidth": 2,
            "linecolor": "white",
            "showbackground": true,
            "ticks": "",
            "zerolinecolor": "white"
           },
           "zaxis": {
            "backgroundcolor": "#E5ECF6",
            "gridcolor": "white",
            "gridwidth": 2,
            "linecolor": "white",
            "showbackground": true,
            "ticks": "",
            "zerolinecolor": "white"
           }
          },
          "shapedefaults": {
           "line": {
            "color": "#2a3f5f"
           }
          },
          "ternary": {
           "aaxis": {
            "gridcolor": "white",
            "linecolor": "white",
            "ticks": ""
           },
           "baxis": {
            "gridcolor": "white",
            "linecolor": "white",
            "ticks": ""
           },
           "bgcolor": "#E5ECF6",
           "caxis": {
            "gridcolor": "white",
            "linecolor": "white",
            "ticks": ""
           }
          },
          "title": {
           "x": 0.05
          },
          "xaxis": {
           "automargin": true,
           "gridcolor": "white",
           "linecolor": "white",
           "ticks": "",
           "title": {
            "standoff": 15
           },
           "zerolinecolor": "white",
           "zerolinewidth": 2
          },
          "yaxis": {
           "automargin": true,
           "gridcolor": "white",
           "linecolor": "white",
           "ticks": "",
           "title": {
            "standoff": 15
           },
           "zerolinecolor": "white",
           "zerolinewidth": 2
          }
         }
        }
       }
      },
      "text/html": [
       "<div>\n",
       "        \n",
       "        \n",
       "            <div id=\"8db1e821-ce40-4974-877f-1b5fd2c5cabf\" class=\"plotly-graph-div\" style=\"height:525px; width:100%;\"></div>\n",
       "            <script type=\"text/javascript\">\n",
       "                require([\"plotly\"], function(Plotly) {\n",
       "                    window.PLOTLYENV=window.PLOTLYENV || {};\n",
       "                    \n",
       "                if (document.getElementById(\"8db1e821-ce40-4974-877f-1b5fd2c5cabf\")) {\n",
       "                    Plotly.newPlot(\n",
       "                        '8db1e821-ce40-4974-877f-1b5fd2c5cabf',\n",
       "                        [{\"lat\": [-23.608460728729668, -23.624316061043483, -23.631588555054293, -23.65196225923976], \"lon\": [-46.552723502116876, -46.54187149219059, -46.54382476170737, -46.534140276065585], \"marker\": {\"size\": 10}, \"mode\": \"markers+lines\", \"name\": \"0135a289078455a8ee1b73984bb9ff67\", \"text\": [\"2019-12-19T14:10:00\", \"2019-12-19T14:15:00\", \"2019-12-19T14:20:00\", \"2019-12-19T14:25:00\"], \"type\": \"scattermapbox\"}, {\"lat\": [-23.652105307464144, -23.638350943006863, -23.62745342206498, -23.62743024977902, -23.627489541049414, -23.639703332432493, -23.65204119671269], \"lon\": [-46.53569102063658, -46.5351842094913, -46.530131075508656, -46.53013403525274, -46.530083010504306, -46.53847961487778, -46.53559470983364], \"marker\": {\"size\": 10}, \"mode\": \"markers+lines\", \"name\": \"016dd1945c4a150d52f2e82245a45258\", \"text\": [\"2019-12-20T17:50:00\", \"2019-12-20T17:55:00\", \"2019-12-20T18:00:00\", \"2019-12-20T18:05:00\", \"2019-12-20T18:10:00\", \"2019-12-20T18:20:00\", \"2019-12-20T18:25:00\"], \"type\": \"scattermapbox\"}, {\"lat\": [-23.62942081442669, -23.616494926197173, -23.615103431989123, -23.60379603694134, -23.594782316968065, -23.59899134213286], \"lon\": [-46.54874971792925, -46.55754935862943, -46.579527582769124, -46.59466092580183, -46.60839826738776, -46.62362214160678], \"marker\": {\"size\": 10}, \"mode\": \"markers+lines\", \"name\": \"1a431f2f4cc92063247f2d22c2ba3ca8\", \"text\": [\"2019-12-19T04:00:00\", \"2019-12-19T04:05:00\", \"2019-12-19T04:10:00\", \"2019-12-19T04:15:00\", \"2019-12-19T04:20:00\", \"2019-12-19T04:25:00\"], \"type\": \"scattermapbox\"}, {\"lat\": [-23.652444091994457, -23.647170869248864, -23.636445081487622], \"lon\": [-46.5338249758865, -46.53785169693718, -46.543368653758655], \"marker\": {\"size\": 10}, \"mode\": \"markers+lines\", \"name\": \"256ea59dac50761b909031afa46409bc\", \"text\": [\"2019-12-21T15:15:00\", \"2019-12-21T15:20:00\", \"2019-12-21T15:25:00\"], \"type\": \"scattermapbox\"}, {\"lat\": [-23.65099609005463, -23.648709552536086, -23.64875020887625, -23.6487320582527], \"lon\": [-46.53587167487074, -46.54530907145182, -46.545260508977115, -46.54522638329556], \"marker\": {\"size\": 10}, \"mode\": \"markers+lines\", \"name\": \"2aa22ba2cc1d150f46503959bc639b0f\", \"text\": [\"2019-12-22T18:45:00\", \"2019-12-22T18:50:00\", \"2019-12-22T18:55:00\", \"2019-12-22T19:00:00\"], \"type\": \"scattermapbox\"}, {\"lat\": [-23.635805366092736], \"lon\": [-46.6146459142947], \"marker\": {\"size\": 10}, \"mode\": \"markers+lines\", \"name\": \"5a7122ed519146bf9d0d123e699a96b3\", \"text\": [\"2019-12-19T06:40:00\"], \"type\": \"scattermapbox\"}, {\"lat\": [-23.640808357440143, -23.64069749226216], \"lon\": [-46.52933560401089, -46.529102274345206], \"marker\": {\"size\": 10}, \"mode\": \"markers+lines\", \"name\": \"6aaca54fe45b174081a725b500cfaa26\", \"text\": [\"2019-12-22T09:05:00\", \"2019-12-22T09:05:00\"], \"type\": \"scattermapbox\"}, {\"lat\": [-23.650642165435986, -23.65154039572654, -23.64440495140605, -23.63256237268547], \"lon\": [-46.539729460661164, -46.538401863226916, -46.54006144198937, -46.549271437879845], \"marker\": {\"size\": 10}, \"mode\": \"markers+lines\", \"name\": \"7340c09cbdb77b512954c9942ffbd558\", \"text\": [\"2019-12-20T10:30:00\", \"2019-12-20T10:35:00\", \"2019-12-20T10:40:00\", \"2019-12-20T10:45:00\"], \"type\": \"scattermapbox\"}, {\"lat\": [-23.600283123860454, -23.59763826716946], \"lon\": [-46.54296835492428, -46.541405794180086], \"marker\": {\"size\": 10}, \"mode\": \"markers+lines\", \"name\": \"73e3c83742795a9ef769031d91500c27\", \"text\": [\"2019-12-20T13:15:00\", \"2019-12-20T13:20:00\"], \"type\": \"scattermapbox\"}, {\"lat\": [-23.647235693645886, -23.65082637741244, -23.650847289815225, -23.650798953352226], \"lon\": [-46.525797071561605, -46.53883526592352, -46.53884734290646, -46.538767729242494], \"marker\": {\"size\": 10}, \"mode\": \"markers+lines\", \"name\": \"8af44f8c00d38935a19921fe1d778385\", \"text\": [\"2019-12-22T11:15:00\", \"2019-12-22T11:20:00\", \"2019-12-22T11:25:00\", \"2019-12-22T11:55:00\"], \"type\": \"scattermapbox\"}, {\"lat\": [-23.659395784492926], \"lon\": [-46.57568826351832], \"marker\": {\"size\": 10}, \"mode\": \"markers+lines\", \"name\": \"8ecc53cb9da59b38ccc7929a2b717a92\", \"text\": [\"2019-12-21T16:55:00\"], \"type\": \"scattermapbox\"}, {\"lat\": [-23.651344830924067], \"lon\": [-46.53454241196017], \"marker\": {\"size\": 10}, \"mode\": \"markers+lines\", \"name\": \"956020d498e232207223ca9748392e1a\", \"text\": [\"2019-12-21T15:40:00\"], \"type\": \"scattermapbox\"}, {\"lat\": [-23.625353368775134, -23.623523172398126, -23.625057721530883, -23.63410191222816], \"lon\": [-46.614933650631855, -46.61188577184176, -46.59883978317548, -46.586488199790786], \"marker\": {\"size\": 10}, \"mode\": \"markers+lines\", \"name\": \"974720bcc83a405ceda4ca450184bf9c\", \"text\": [\"2019-12-20T09:50:00\", \"2019-12-20T09:55:00\", \"2019-12-20T10:00:00\", \"2019-12-20T10:05:00\"], \"type\": \"scattermapbox\"}, {\"lat\": [-23.654172176026318], \"lon\": [-46.549155847668885], \"marker\": {\"size\": 10}, \"mode\": \"markers+lines\", \"name\": \"ab518850ba5e7992e6f5a6da5c7b3417\", \"text\": [\"2019-12-18T09:35:00\"], \"type\": \"scattermapbox\"}, {\"lat\": [-23.60981501832226, -23.609737570548113, -23.609609330319262, -23.60981773292587, -23.61299954576909, -23.627349289436665, -23.631363184309173, -23.649179560175146, -23.650999322738873], \"lon\": [-46.56822341953548, -46.56773105418649, -46.56771927530696, -46.56780863861534, -46.5680601650324, -46.550577537321445, -46.54528067968192, -46.53835981646041, -46.53586910362233], \"marker\": {\"size\": 10}, \"mode\": \"markers+lines\", \"name\": \"ad0a3d059b6a95d02716500318036dbe\", \"text\": [\"2019-12-18T07:05:00\", \"2019-12-18T07:10:00\", \"2019-12-18T07:15:00\", \"2019-12-18T07:25:00\", \"2019-12-18T07:30:00\", \"2019-12-18T07:40:00\", \"2019-12-18T07:45:00\", \"2019-12-18T08:00:00\", \"2019-12-18T08:05:00\"], \"type\": \"scattermapbox\"}, {\"lat\": [-23.650573541009166, -23.644034734291104, -23.636652902641202, -23.618379861814088], \"lon\": [-46.57087451781282, -46.56874953850879, -46.55871080921097, -46.55380432264695], \"marker\": {\"size\": 10}, \"mode\": \"markers+lines\", \"name\": \"af2fc09671ee76ff6cd3c87101c20a62\", \"text\": [\"2019-12-20T19:10:00\", \"2019-12-20T19:15:00\", \"2019-12-20T19:20:00\", \"2019-12-20T19:25:00\"], \"type\": \"scattermapbox\"}, {\"lat\": [-23.628431565561048, -23.648859769066362, -23.649068825100922, -23.64183168325818], \"lon\": [-46.58116569157969, -46.57534652467881, -46.57048413426233, -46.570734636790185], \"marker\": {\"size\": 10}, \"mode\": \"markers+lines\", \"name\": \"c1bda31474677deabdb5a2a310cfc85c\", \"text\": [\"2019-12-20T18:50:00\", \"2019-12-20T18:55:00\", \"2019-12-20T19:00:00\", \"2019-12-20T19:05:00\"], \"type\": \"scattermapbox\"}, {\"lat\": [-23.60822731942172, -23.6095005823415, -23.609687716030813, -23.607740511018083, -23.621967896670135, -23.631723482798442, -23.63830071943698, -23.647357440346635, -23.656054306091015, -23.63294882918894, -23.60939356683799], \"lon\": [-46.57236572350098, -46.5677970818036, -46.56760032586795, -46.56726711570585, -46.56793664025613, -46.56571084219545, -46.56476165290802, -46.576718524219686, -46.57712276088264, -46.58276529787647, -46.5676548069447], \"marker\": {\"size\": 10}, \"mode\": \"markers+lines\", \"name\": \"df6321ea69a26d2f7d994dc981580f3a\", \"text\": [\"2019-12-19T10:45:00\", \"2019-12-19T10:55:00\", \"2019-12-19T11:00:00\", \"2019-12-19T11:05:00\", \"2019-12-19T11:10:00\", \"2019-12-19T11:15:00\", \"2019-12-19T11:20:00\", \"2019-12-19T11:25:00\", \"2019-12-19T13:00:00\", \"2019-12-19T13:05:00\", \"2019-12-19T13:20:00\"], \"type\": \"scattermapbox\"}, {\"lat\": [-23.650356925980883, -23.651061601283143, -23.64846504353652, -23.645801622625925, -23.647542497244302, -23.64839790505287, -23.641892954470897, -23.644803745242026], \"lon\": [-46.60608677342937, -46.601119756173446, -46.598871515667, -46.598536037457315, -46.60018061939324, -46.605082855575155, -46.60836261716296, -46.60956576990825], \"marker\": {\"size\": 10}, \"mode\": \"markers+lines\", \"name\": \"e27f0db17ba9a60bdf1f32e0353f695a\", \"text\": [\"2019-12-19T05:50:00\", \"2019-12-19T06:00:00\", \"2019-12-19T06:05:00\", \"2019-12-19T06:10:00\", \"2019-12-19T06:15:00\", \"2019-12-19T06:20:00\", \"2019-12-19T06:25:00\", \"2019-12-19T06:30:00\"], \"type\": \"scattermapbox\"}, {\"lat\": [-23.624186259553195, -23.61322153743111, -23.609430725349288, -23.60970481378755, -23.609697136504998, -23.609875379729054, -23.60976657471378, -23.609763609132294, -23.60966662865163, -23.603899274007087, -23.605587029962997, -23.59806541541826, -23.589682981646902, -23.588340782893695, -23.586350093178005, -23.580360270338645, -23.57886300322025, -23.577939620686255, -23.580778168825724, -23.583473737877416, -23.584934428602224, -23.584896570518], \"lon\": [-46.547789475160975, -46.56785106292214, -46.56776762167939, -46.567523249587396, -46.56752927323416, -46.567853930947564, -46.56778392902657, -46.56762650493235, -46.56756125311676, -46.56059056837213, -46.552028784717784, -46.55018583636595, -46.54410359661824, -46.53943115854498, -46.535687463381706, -46.53749904514059, -46.536410786015566, -46.531991994281235, -46.53292336567266, -46.53220561495633, -46.523712501840855, -46.51735876591658], \"marker\": {\"size\": 10}, \"mode\": \"markers+lines\", \"name\": \"f12e02fb4170a6c069272de7d0427944\", \"text\": [\"2019-12-20T03:55:00\", \"2019-12-20T04:00:00\", \"2019-12-20T04:05:00\", \"2019-12-20T04:15:00\", \"2019-12-20T04:20:00\", \"2019-12-20T04:25:00\", \"2019-12-20T04:30:00\", \"2019-12-20T04:35:00\", \"2019-12-20T04:40:00\", \"2019-12-20T04:45:00\", \"2019-12-20T04:50:00\", \"2019-12-20T04:55:00\", \"2019-12-20T05:00:00\", \"2019-12-20T05:05:00\", \"2019-12-20T05:10:00\", \"2019-12-20T05:15:00\", \"2019-12-20T05:20:00\", \"2019-12-20T05:25:00\", \"2019-12-20T05:30:00\", \"2019-12-20T05:35:00\", \"2019-12-20T05:40:00\", \"2019-12-20T05:45:00\"], \"type\": \"scattermapbox\"}, {\"lat\": [-23.60960692230336], \"lon\": [-46.56762050245306], \"marker\": {\"size\": 10}, \"mode\": \"markers+lines\", \"name\": \"f8a7d4d0bda68889988d5104aceb3203\", \"text\": [\"2019-12-18T06:40:00\"], \"type\": \"scattermapbox\"}],\n",
       "                        {\"geo\": {\"fitbounds\": \"locations\"}, \"mapbox\": {\"center\": {\"lat\": -23.63297125196098, \"lon\": -46.555569218561445}, \"style\": \"carto-positron\", \"zoom\": 12}, \"margin\": {\"b\": 0, \"l\": 0, \"r\": 0, \"t\": 0}, \"template\": {\"data\": {\"bar\": [{\"error_x\": {\"color\": \"#2a3f5f\"}, \"error_y\": {\"color\": \"#2a3f5f\"}, \"marker\": {\"line\": {\"color\": \"#E5ECF6\", \"width\": 0.5}}, \"type\": \"bar\"}], \"barpolar\": [{\"marker\": {\"line\": {\"color\": \"#E5ECF6\", \"width\": 0.5}}, \"type\": \"barpolar\"}], \"carpet\": [{\"aaxis\": {\"endlinecolor\": \"#2a3f5f\", \"gridcolor\": \"white\", \"linecolor\": \"white\", \"minorgridcolor\": \"white\", \"startlinecolor\": \"#2a3f5f\"}, \"baxis\": {\"endlinecolor\": \"#2a3f5f\", \"gridcolor\": \"white\", \"linecolor\": \"white\", \"minorgridcolor\": \"white\", \"startlinecolor\": \"#2a3f5f\"}, \"type\": \"carpet\"}], \"choropleth\": [{\"colorbar\": {\"outlinewidth\": 0, \"ticks\": \"\"}, \"type\": \"choropleth\"}], \"contour\": [{\"colorbar\": {\"outlinewidth\": 0, \"ticks\": \"\"}, \"colorscale\": [[0.0, \"#0d0887\"], [0.1111111111111111, \"#46039f\"], [0.2222222222222222, \"#7201a8\"], [0.3333333333333333, \"#9c179e\"], [0.4444444444444444, \"#bd3786\"], [0.5555555555555556, \"#d8576b\"], [0.6666666666666666, \"#ed7953\"], [0.7777777777777778, \"#fb9f3a\"], [0.8888888888888888, \"#fdca26\"], [1.0, \"#f0f921\"]], \"type\": \"contour\"}], \"contourcarpet\": [{\"colorbar\": {\"outlinewidth\": 0, \"ticks\": \"\"}, \"type\": \"contourcarpet\"}], \"heatmap\": [{\"colorbar\": {\"outlinewidth\": 0, \"ticks\": \"\"}, \"colorscale\": [[0.0, \"#0d0887\"], [0.1111111111111111, \"#46039f\"], [0.2222222222222222, \"#7201a8\"], [0.3333333333333333, \"#9c179e\"], [0.4444444444444444, \"#bd3786\"], [0.5555555555555556, \"#d8576b\"], [0.6666666666666666, \"#ed7953\"], [0.7777777777777778, \"#fb9f3a\"], [0.8888888888888888, \"#fdca26\"], [1.0, \"#f0f921\"]], \"type\": \"heatmap\"}], \"heatmapgl\": [{\"colorbar\": {\"outlinewidth\": 0, \"ticks\": \"\"}, \"colorscale\": [[0.0, \"#0d0887\"], [0.1111111111111111, \"#46039f\"], [0.2222222222222222, \"#7201a8\"], [0.3333333333333333, \"#9c179e\"], [0.4444444444444444, \"#bd3786\"], [0.5555555555555556, \"#d8576b\"], [0.6666666666666666, \"#ed7953\"], [0.7777777777777778, \"#fb9f3a\"], [0.8888888888888888, \"#fdca26\"], [1.0, \"#f0f921\"]], \"type\": \"heatmapgl\"}], \"histogram\": [{\"marker\": {\"colorbar\": {\"outlinewidth\": 0, \"ticks\": \"\"}}, \"type\": \"histogram\"}], \"histogram2d\": [{\"colorbar\": {\"outlinewidth\": 0, \"ticks\": \"\"}, \"colorscale\": [[0.0, \"#0d0887\"], [0.1111111111111111, \"#46039f\"], [0.2222222222222222, \"#7201a8\"], [0.3333333333333333, \"#9c179e\"], [0.4444444444444444, \"#bd3786\"], [0.5555555555555556, \"#d8576b\"], [0.6666666666666666, \"#ed7953\"], [0.7777777777777778, \"#fb9f3a\"], [0.8888888888888888, \"#fdca26\"], [1.0, \"#f0f921\"]], \"type\": \"histogram2d\"}], \"histogram2dcontour\": [{\"colorbar\": {\"outlinewidth\": 0, \"ticks\": \"\"}, \"colorscale\": [[0.0, \"#0d0887\"], [0.1111111111111111, \"#46039f\"], [0.2222222222222222, \"#7201a8\"], [0.3333333333333333, \"#9c179e\"], [0.4444444444444444, \"#bd3786\"], [0.5555555555555556, \"#d8576b\"], [0.6666666666666666, \"#ed7953\"], [0.7777777777777778, \"#fb9f3a\"], [0.8888888888888888, \"#fdca26\"], [1.0, \"#f0f921\"]], \"type\": \"histogram2dcontour\"}], \"mesh3d\": [{\"colorbar\": {\"outlinewidth\": 0, \"ticks\": \"\"}, \"type\": \"mesh3d\"}], \"parcoords\": [{\"line\": {\"colorbar\": {\"outlinewidth\": 0, \"ticks\": \"\"}}, \"type\": \"parcoords\"}], \"pie\": [{\"automargin\": true, \"type\": \"pie\"}], \"scatter\": [{\"marker\": {\"colorbar\": {\"outlinewidth\": 0, \"ticks\": \"\"}}, \"type\": \"scatter\"}], \"scatter3d\": [{\"line\": {\"colorbar\": {\"outlinewidth\": 0, \"ticks\": \"\"}}, \"marker\": {\"colorbar\": {\"outlinewidth\": 0, \"ticks\": \"\"}}, \"type\": \"scatter3d\"}], \"scattercarpet\": [{\"marker\": {\"colorbar\": {\"outlinewidth\": 0, \"ticks\": \"\"}}, \"type\": \"scattercarpet\"}], \"scattergeo\": [{\"marker\": {\"colorbar\": {\"outlinewidth\": 0, \"ticks\": \"\"}}, \"type\": \"scattergeo\"}], \"scattergl\": [{\"marker\": {\"colorbar\": {\"outlinewidth\": 0, \"ticks\": \"\"}}, \"type\": \"scattergl\"}], \"scattermapbox\": [{\"marker\": {\"colorbar\": {\"outlinewidth\": 0, \"ticks\": \"\"}}, \"type\": \"scattermapbox\"}], \"scatterpolar\": [{\"marker\": {\"colorbar\": {\"outlinewidth\": 0, \"ticks\": \"\"}}, \"type\": \"scatterpolar\"}], \"scatterpolargl\": [{\"marker\": {\"colorbar\": {\"outlinewidth\": 0, \"ticks\": \"\"}}, \"type\": \"scatterpolargl\"}], \"scatterternary\": [{\"marker\": {\"colorbar\": {\"outlinewidth\": 0, \"ticks\": \"\"}}, \"type\": \"scatterternary\"}], \"surface\": [{\"colorbar\": {\"outlinewidth\": 0, \"ticks\": \"\"}, \"colorscale\": [[0.0, \"#0d0887\"], [0.1111111111111111, \"#46039f\"], [0.2222222222222222, \"#7201a8\"], [0.3333333333333333, \"#9c179e\"], [0.4444444444444444, \"#bd3786\"], [0.5555555555555556, \"#d8576b\"], [0.6666666666666666, \"#ed7953\"], [0.7777777777777778, \"#fb9f3a\"], [0.8888888888888888, \"#fdca26\"], [1.0, \"#f0f921\"]], \"type\": \"surface\"}], \"table\": [{\"cells\": {\"fill\": {\"color\": \"#EBF0F8\"}, \"line\": {\"color\": \"white\"}}, \"header\": {\"fill\": {\"color\": \"#C8D4E3\"}, \"line\": {\"color\": \"white\"}}, \"type\": \"table\"}]}, \"layout\": {\"annotationdefaults\": {\"arrowcolor\": \"#2a3f5f\", \"arrowhead\": 0, \"arrowwidth\": 1}, \"coloraxis\": {\"colorbar\": {\"outlinewidth\": 0, \"ticks\": \"\"}}, \"colorscale\": {\"diverging\": [[0, \"#8e0152\"], [0.1, \"#c51b7d\"], [0.2, \"#de77ae\"], [0.3, \"#f1b6da\"], [0.4, \"#fde0ef\"], [0.5, \"#f7f7f7\"], [0.6, \"#e6f5d0\"], [0.7, \"#b8e186\"], [0.8, \"#7fbc41\"], [0.9, \"#4d9221\"], [1, \"#276419\"]], \"sequential\": [[0.0, \"#0d0887\"], [0.1111111111111111, \"#46039f\"], [0.2222222222222222, \"#7201a8\"], [0.3333333333333333, \"#9c179e\"], [0.4444444444444444, \"#bd3786\"], [0.5555555555555556, \"#d8576b\"], [0.6666666666666666, \"#ed7953\"], [0.7777777777777778, \"#fb9f3a\"], [0.8888888888888888, \"#fdca26\"], [1.0, \"#f0f921\"]], \"sequentialminus\": [[0.0, \"#0d0887\"], [0.1111111111111111, \"#46039f\"], [0.2222222222222222, \"#7201a8\"], [0.3333333333333333, \"#9c179e\"], [0.4444444444444444, \"#bd3786\"], [0.5555555555555556, \"#d8576b\"], [0.6666666666666666, \"#ed7953\"], [0.7777777777777778, \"#fb9f3a\"], [0.8888888888888888, \"#fdca26\"], [1.0, \"#f0f921\"]]}, \"colorway\": [\"#636efa\", \"#EF553B\", \"#00cc96\", \"#ab63fa\", \"#FFA15A\", \"#19d3f3\", \"#FF6692\", \"#B6E880\", \"#FF97FF\", \"#FECB52\"], \"font\": {\"color\": \"#2a3f5f\"}, \"geo\": {\"bgcolor\": \"white\", \"lakecolor\": \"white\", \"landcolor\": \"#E5ECF6\", \"showlakes\": true, \"showland\": true, \"subunitcolor\": \"white\"}, \"hoverlabel\": {\"align\": \"left\"}, \"hovermode\": \"closest\", \"mapbox\": {\"style\": \"light\"}, \"paper_bgcolor\": \"white\", \"plot_bgcolor\": \"#E5ECF6\", \"polar\": {\"angularaxis\": {\"gridcolor\": \"white\", \"linecolor\": \"white\", \"ticks\": \"\"}, \"bgcolor\": \"#E5ECF6\", \"radialaxis\": {\"gridcolor\": \"white\", \"linecolor\": \"white\", \"ticks\": \"\"}}, \"scene\": {\"xaxis\": {\"backgroundcolor\": \"#E5ECF6\", \"gridcolor\": \"white\", \"gridwidth\": 2, \"linecolor\": \"white\", \"showbackground\": true, \"ticks\": \"\", \"zerolinecolor\": \"white\"}, \"yaxis\": {\"backgroundcolor\": \"#E5ECF6\", \"gridcolor\": \"white\", \"gridwidth\": 2, \"linecolor\": \"white\", \"showbackground\": true, \"ticks\": \"\", \"zerolinecolor\": \"white\"}, \"zaxis\": {\"backgroundcolor\": \"#E5ECF6\", \"gridcolor\": \"white\", \"gridwidth\": 2, \"linecolor\": \"white\", \"showbackground\": true, \"ticks\": \"\", \"zerolinecolor\": \"white\"}}, \"shapedefaults\": {\"line\": {\"color\": \"#2a3f5f\"}}, \"ternary\": {\"aaxis\": {\"gridcolor\": \"white\", \"linecolor\": \"white\", \"ticks\": \"\"}, \"baxis\": {\"gridcolor\": \"white\", \"linecolor\": \"white\", \"ticks\": \"\"}, \"bgcolor\": \"#E5ECF6\", \"caxis\": {\"gridcolor\": \"white\", \"linecolor\": \"white\", \"ticks\": \"\"}}, \"title\": {\"x\": 0.05}, \"xaxis\": {\"automargin\": true, \"gridcolor\": \"white\", \"linecolor\": \"white\", \"ticks\": \"\", \"title\": {\"standoff\": 15}, \"zerolinecolor\": \"white\", \"zerolinewidth\": 2}, \"yaxis\": {\"automargin\": true, \"gridcolor\": \"white\", \"linecolor\": \"white\", \"ticks\": \"\", \"title\": {\"standoff\": 15}, \"zerolinecolor\": \"white\", \"zerolinewidth\": 2}}}},\n",
       "                        {\"responsive\": true}\n",
       "                    ).then(function(){\n",
       "                            \n",
       "var gd = document.getElementById('8db1e821-ce40-4974-877f-1b5fd2c5cabf');\n",
       "var x = new MutationObserver(function (mutations, observer) {{\n",
       "        var display = window.getComputedStyle(gd).display;\n",
       "        if (!display || display === 'none') {{\n",
       "            console.log([gd, 'removed!']);\n",
       "            Plotly.purge(gd);\n",
       "            observer.disconnect();\n",
       "        }}\n",
       "}});\n",
       "\n",
       "// Listen for the removal of the full notebook cells\n",
       "var notebookContainer = gd.closest('#notebook-container');\n",
       "if (notebookContainer) {{\n",
       "    x.observe(notebookContainer, {childList: true});\n",
       "}}\n",
       "\n",
       "// Listen for the clearing of the current output cell\n",
       "var outputEl = gd.closest('.output');\n",
       "if (outputEl) {{\n",
       "    x.observe(outputEl, {childList: true});\n",
       "}}\n",
       "\n",
       "                        })\n",
       "                };\n",
       "                });\n",
       "            </script>\n",
       "        </div>"
      ]
     },
     "metadata": {},
     "output_type": "display_data"
    }
   ],
   "source": [
    "fig = go.Figure()\n",
    "\n",
    "for itinerary, g in df_selection.groupby('itinerary_id'):\n",
    "\n",
    "    fig.add_trace(go.Scattermapbox(\n",
    "        mode = \"markers+lines\",\n",
    "        lon = g['lng'].values,\n",
    "        lat = g['lat'].values,\n",
    "        name = itinerary,\n",
    "        text = g.reset_index().sent,\n",
    "        marker = {'size': 10}))\n",
    "\n",
    "# test this for auto centering:\n",
    "fig.update_geos(fitbounds=\"locations\")\n",
    "\n",
    "fig.update_layout(\n",
    "    margin ={'l':0,'t':0,'b':0,'r':0},\n",
    "    mapbox = {\n",
    "        'center': {'lon': longitude, 'lat': latitude},\n",
    "        'style': \"carto-positron\",\n",
    "        'zoom': 12})\n",
    "\n",
    "fig.show()"
   ]
  },
  {
   "cell_type": "code",
   "execution_count": null,
   "metadata": {},
   "outputs": [],
   "source": []
  }
 ],
 "metadata": {
  "kernelspec": {
   "display_name": "Python 3",
   "language": "python",
   "name": "python3"
  },
  "language_info": {
   "codemirror_mode": {
    "name": "ipython",
    "version": 3
   },
   "file_extension": ".py",
   "mimetype": "text/x-python",
   "name": "python",
   "nbconvert_exporter": "python",
   "pygments_lexer": "ipython3",
   "version": "3.8.2"
  }
 },
 "nbformat": 4,
 "nbformat_minor": 4
}
