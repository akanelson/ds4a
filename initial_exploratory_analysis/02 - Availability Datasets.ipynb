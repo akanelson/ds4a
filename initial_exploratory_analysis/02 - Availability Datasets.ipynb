{
 "cells": [
  {
   "cell_type": "markdown",
   "metadata": {},
   "source": [
    "# Avalilability Datasets"
   ]
  },
  {
   "cell_type": "code",
   "execution_count": 12,
   "metadata": {},
   "outputs": [],
   "source": [
    "%matplotlib inline\n",
    "import pandas as pd\n",
    "import random\n",
    "import matplotlib.pyplot as plt\n",
    "import os\n",
    "import practicum_utils as utils"
   ]
  },
  {
   "cell_type": "code",
   "execution_count": 13,
   "metadata": {},
   "outputs": [
    {
     "data": {
      "text/plain": [
       "['../data/supply/availability_dist1_ano.csv',\n",
       " '../data/supply/availability_dist2_ano.csv',\n",
       " '../data/supply/itinerary_dist1_ano.csv',\n",
       " '../data/supply/itinerary_dist2_ano.csv']"
      ]
     },
     "execution_count": 13,
     "metadata": {},
     "output_type": "execute_result"
    }
   ],
   "source": [
    "files = utils.get_loggi_files()\n",
    "files"
   ]
  },
  {
   "cell_type": "markdown",
   "metadata": {},
   "source": [
    "# Availability Drivers Dataset 1\n",
    "Es enorme por lo que voy a levantar el 0.1% de la misma (random selection)"
   ]
  },
  {
   "cell_type": "code",
   "execution_count": 14,
   "metadata": {},
   "outputs": [
    {
     "name": "stdout",
     "output_type": "stream",
     "text": [
      "<class 'pandas.core.frame.DataFrame'>\n",
      "RangeIndex: 6503 entries, 0 to 6502\n",
      "Data columns (total 8 columns):\n",
      " #   Column          Non-Null Count  Dtype  \n",
      "---  ------          --------------  -----  \n",
      " 0   Unnamed: 0      6503 non-null   int64  \n",
      " 1   id              6503 non-null   object \n",
      " 2   driver_id       6503 non-null   object \n",
      " 3   itinerary_id    401 non-null    object \n",
      " 4   lat             6503 non-null   float64\n",
      " 5   lng             6503 non-null   float64\n",
      " 6   sent            6503 non-null   object \n",
      " 7   transport_type  6503 non-null   int64  \n",
      "dtypes: float64(2), int64(2), object(4)\n",
      "memory usage: 406.6+ KB\n",
      "None\n"
     ]
    },
    {
     "data": {
      "text/html": [
       "<div>\n",
       "<style scoped>\n",
       "    .dataframe tbody tr th:only-of-type {\n",
       "        vertical-align: middle;\n",
       "    }\n",
       "\n",
       "    .dataframe tbody tr th {\n",
       "        vertical-align: top;\n",
       "    }\n",
       "\n",
       "    .dataframe thead th {\n",
       "        text-align: right;\n",
       "    }\n",
       "</style>\n",
       "<table border=\"1\" class=\"dataframe\">\n",
       "  <thead>\n",
       "    <tr style=\"text-align: right;\">\n",
       "      <th></th>\n",
       "      <th>Unnamed: 0</th>\n",
       "      <th>id</th>\n",
       "      <th>driver_id</th>\n",
       "      <th>itinerary_id</th>\n",
       "      <th>lat</th>\n",
       "      <th>lng</th>\n",
       "      <th>sent</th>\n",
       "      <th>transport_type</th>\n",
       "    </tr>\n",
       "  </thead>\n",
       "  <tbody>\n",
       "    <tr>\n",
       "      <th>0</th>\n",
       "      <td>252</td>\n",
       "      <td>ad590aea1e6d6e9dcf18afa4643148b6</td>\n",
       "      <td>f1b10d55008569bea228d59af4229365</td>\n",
       "      <td>NaN</td>\n",
       "      <td>-23.494307</td>\n",
       "      <td>-46.552168</td>\n",
       "      <td>19-10-22 13:50</td>\n",
       "      <td>1</td>\n",
       "    </tr>\n",
       "    <tr>\n",
       "      <th>1</th>\n",
       "      <td>841</td>\n",
       "      <td>e7abb03f2bd099c23b4e6fcd094b240b</td>\n",
       "      <td>6c15c26adaa2040c4f4b9f51ece1de2a</td>\n",
       "      <td>NaN</td>\n",
       "      <td>-23.498602</td>\n",
       "      <td>-46.559393</td>\n",
       "      <td>19-10-22 15:10</td>\n",
       "      <td>1</td>\n",
       "    </tr>\n",
       "    <tr>\n",
       "      <th>2</th>\n",
       "      <td>1737</td>\n",
       "      <td>ff8015a60a369271eeda4388cfcca30e</td>\n",
       "      <td>ffdb5ceab0617e621e87d6169c0c3806</td>\n",
       "      <td>NaN</td>\n",
       "      <td>-23.465376</td>\n",
       "      <td>-46.525107</td>\n",
       "      <td>19-10-22 18:10</td>\n",
       "      <td>1</td>\n",
       "    </tr>\n",
       "    <tr>\n",
       "      <th>3</th>\n",
       "      <td>2179</td>\n",
       "      <td>8eb8ffaad3749f681dee3ffc7d94f9fe</td>\n",
       "      <td>38d2832ae8e4d19297a31c56ceead140</td>\n",
       "      <td>NaN</td>\n",
       "      <td>-23.441100</td>\n",
       "      <td>-46.529981</td>\n",
       "      <td>19-10-22 19:10</td>\n",
       "      <td>1</td>\n",
       "    </tr>\n",
       "    <tr>\n",
       "      <th>4</th>\n",
       "      <td>2274</td>\n",
       "      <td>b008075f06e3a7173f34c706e4afc947</td>\n",
       "      <td>28e25688ef18bcb61717b779644c30a8</td>\n",
       "      <td>NaN</td>\n",
       "      <td>-23.429320</td>\n",
       "      <td>-46.504974</td>\n",
       "      <td>19-10-22 16:55</td>\n",
       "      <td>1</td>\n",
       "    </tr>\n",
       "  </tbody>\n",
       "</table>\n",
       "</div>"
      ],
      "text/plain": [
       "   Unnamed: 0                                id  \\\n",
       "0         252  ad590aea1e6d6e9dcf18afa4643148b6   \n",
       "1         841  e7abb03f2bd099c23b4e6fcd094b240b   \n",
       "2        1737  ff8015a60a369271eeda4388cfcca30e   \n",
       "3        2179  8eb8ffaad3749f681dee3ffc7d94f9fe   \n",
       "4        2274  b008075f06e3a7173f34c706e4afc947   \n",
       "\n",
       "                          driver_id itinerary_id        lat        lng  \\\n",
       "0  f1b10d55008569bea228d59af4229365          NaN -23.494307 -46.552168   \n",
       "1  6c15c26adaa2040c4f4b9f51ece1de2a          NaN -23.498602 -46.559393   \n",
       "2  ffdb5ceab0617e621e87d6169c0c3806          NaN -23.465376 -46.525107   \n",
       "3  38d2832ae8e4d19297a31c56ceead140          NaN -23.441100 -46.529981   \n",
       "4  28e25688ef18bcb61717b779644c30a8          NaN -23.429320 -46.504974   \n",
       "\n",
       "             sent  transport_type  \n",
       "0  19-10-22 13:50               1  \n",
       "1  19-10-22 15:10               1  \n",
       "2  19-10-22 18:10               1  \n",
       "3  19-10-22 19:10               1  \n",
       "4  19-10-22 16:55               1  "
      ]
     },
     "execution_count": 14,
     "metadata": {},
     "output_type": "execute_result"
    }
   ],
   "source": [
    "# Availability 1\n",
    "df = utils.read_csv_percent(files[0], percent=0.1)\n",
    "print(df.info())\n",
    "df.head()"
   ]
  },
  {
   "cell_type": "code",
   "execution_count": 15,
   "metadata": {},
   "outputs": [
    {
     "data": {
      "text/plain": [
       "Unnamed: 0        6503\n",
       "id                6503\n",
       "driver_id         1487\n",
       "itinerary_id       393\n",
       "lat               6503\n",
       "lng               6503\n",
       "sent              6278\n",
       "transport_type       3\n",
       "dtype: int64"
      ]
     },
     "execution_count": 15,
     "metadata": {},
     "output_type": "execute_result"
    }
   ],
   "source": [
    "df.nunique()"
   ]
  },
  {
   "cell_type": "code",
   "execution_count": 4,
   "metadata": {},
   "outputs": [
    {
     "name": "stdout",
     "output_type": "stream",
     "text": [
      "Column id\n",
      "Rows with len(id) == 32: 6406\n",
      "Rows with len(id) == 0: 0\n",
      "Rows with len(id) != 32 & != 0: 0\n",
      "\n",
      "Column driver_id\n",
      "Rows with len(id) == 32: 6406\n",
      "Rows with len(id) == 0: 0\n",
      "Rows with len(id) != 32 & != 0: 0\n",
      "\n",
      "Column itinerary_id\n",
      "Rows with len(id) == 32: 461\n",
      "Rows with len(id) == 0: 5945\n",
      "Rows with len(id) != 32 & != 0: 0\n",
      "\n"
     ]
    }
   ],
   "source": [
    "for col in ['id', 'driver_id', 'itinerary_id']:\n",
    "    lid = 'len_{}'.format(col) \n",
    "    df[lid] = df[col].apply(lambda x: len(x) if pd.notna(x) else 0)\n",
    "    print('Column', col)\n",
    "    print('Rows with len(id) == 32:', len(df[df[lid] == 32]))\n",
    "    print('Rows with len(id) == 0:', len(df[df[lid] == 0]))\n",
    "    print('Rows with len(id) != 32 & != 0:', len(df[~df[lid].isin([0, 32])]))\n",
    "    print()\n",
    "    del df[lid]"
   ]
  },
  {
   "cell_type": "code",
   "execution_count": 5,
   "metadata": {},
   "outputs": [
    {
     "name": "stdout",
     "output_type": "stream",
     "text": [
      "Duplicates itineraries_id: 7\n",
      "\n",
      "4b9c647fc6d57cba92ad8684554909da\n",
      "                             driver_id        lat        lng            sent  \\\n",
      "2532  be79ef35ece98897b70d6a005152e45b -23.461983 -46.538080  20-02-18 06:35   \n",
      "2534  be79ef35ece98897b70d6a005152e45b -23.462844 -46.550487  20-02-18 07:10   \n",
      "\n",
      "      transport_type  \n",
      "2532               1  \n",
      "2534               1  \n",
      "597596078a0a2eaa4fea85d02d29194f\n",
      "                             driver_id        lat        lng            sent  \\\n",
      "1272  7147d153f608f0fe4630e267a5ccba1c -23.483423 -46.566129  19-12-27 20:45   \n",
      "1277  7147d153f608f0fe4630e267a5ccba1c -23.483369 -46.566172  19-12-28 01:20   \n",
      "\n",
      "      transport_type  \n",
      "1272               1  \n",
      "1277               1  \n",
      "5dbf4187e2368a07aeee907fcb3b55d1\n",
      "                             driver_id        lat        lng            sent  \\\n",
      "2789  0d7aaef9dc7b2dba37abe54c165adc5b -23.443835 -46.525203  20-02-24 06:10   \n",
      "2790  0d7aaef9dc7b2dba37abe54c165adc5b -23.442358 -46.524382  20-02-24 06:15   \n",
      "\n",
      "      transport_type  \n",
      "2789               1  \n",
      "2790               1  \n",
      "6371fd853a20e32f3a52bc315e093cce\n",
      "                             driver_id        lat        lng            sent  \\\n",
      "1170  0f5f20b2d50c0a2a66e9d8faf2b6604e -23.455180 -46.507536  19-12-20 23:05   \n",
      "1174  0f5f20b2d50c0a2a66e9d8faf2b6604e -23.455212 -46.507445  19-12-21 00:45   \n",
      "\n",
      "      transport_type  \n",
      "1170               1  \n",
      "1174               1  \n",
      "b415bca9b46fe16b8c565b6200efed5e\n",
      "                             driver_id        lat        lng            sent  \\\n",
      "3307  c838ec11adcb8085c780b5012ed7c965 -23.468550 -46.516325  20-03-09 03:55   \n",
      "3308  c838ec11adcb8085c780b5012ed7c965 -23.474811 -46.528550  20-03-09 04:20   \n",
      "\n",
      "      transport_type  \n",
      "3307               1  \n",
      "3308               1  \n",
      "cb70fd8c7390610aeaa4560a92635c4e\n",
      "                             driver_id        lat        lng            sent  \\\n",
      "2795  ea9fcb05d347e128fd0d62d7db68965c -23.434627 -46.552199  20-02-24 08:15   \n",
      "2797  ea9fcb05d347e128fd0d62d7db68965c -23.434611 -46.552185  20-02-24 08:25   \n",
      "\n",
      "      transport_type  \n",
      "2795               1  \n",
      "2797               1  \n",
      "f0eeb55570e0c673ee357dd55d6b22b8\n",
      "                             driver_id        lat        lng            sent  \\\n",
      "2748  7af344051c9f5967508b9670acb512ba -23.430484 -46.533540  20-02-22 19:20   \n",
      "2774  7af344051c9f5967508b9670acb512ba -23.459653 -46.518189  20-02-23 19:35   \n",
      "2780  7af344051c9f5967508b9670acb512ba -23.459485 -46.518146  20-02-23 23:15   \n",
      "\n",
      "      transport_type  \n",
      "2748               1  \n",
      "2774               1  \n",
      "2780               1  \n"
     ]
    }
   ],
   "source": [
    "dup_itineraries = df.groupby('itinerary_id').id.count().sort_values(ascending=False)\n",
    "dup_itineraries = [k for k, v in dup_itineraries.items() if v > 1]\n",
    "print('Duplicates itineraries_id: {}\\n'.format(len(dup_itineraries)))\n",
    "show = ['driver_id', 'lat', 'lng', 'sent', 'transport_type']\n",
    "#show = ['transport_type']\n",
    "for i, g in df[df.itinerary_id.isin(dup_itineraries)].groupby('itinerary_id'):\n",
    "    print(i)\n",
    "    print(g[show])"
   ]
  },
  {
   "cell_type": "markdown",
   "metadata": {},
   "source": [
    "Siempre que encuentro un itinerary_id repetido (distinto de NaN):\n",
    "- el driver_id aparentemente esta repetido\n",
    "- los ids suelen ser valores muy cercanos\n",
    "- last latitudes y longitudes tambien aparentan ser muy cercanos\n",
    "- los valores de sent suelen estar en un rango de horas hasta unas 48 hs\n",
    "- el tranport_type aparenta ser el mismo\n"
   ]
  },
  {
   "cell_type": "code",
   "execution_count": 6,
   "metadata": {},
   "outputs": [
    {
     "data": {
      "text/plain": [
       "0"
      ]
     },
     "execution_count": 6,
     "metadata": {},
     "output_type": "execute_result"
    }
   ],
   "source": [
    "sum(df.lat.isna()) + sum(df.lng.isna())"
   ]
  },
  {
   "cell_type": "code",
   "execution_count": 7,
   "metadata": {},
   "outputs": [
    {
     "data": {
      "text/plain": [
       "0"
      ]
     },
     "execution_count": 7,
     "metadata": {},
     "output_type": "execute_result"
    }
   ],
   "source": [
    "sum(df.sent.isna())"
   ]
  },
  {
   "cell_type": "code",
   "execution_count": 8,
   "metadata": {},
   "outputs": [
    {
     "data": {
      "text/plain": [
       "array([1, 3, 4], dtype=int64)"
      ]
     },
     "execution_count": 8,
     "metadata": {},
     "output_type": "execute_result"
    }
   ],
   "source": [
    "df.transport_type.unique()"
   ]
  },
  {
   "cell_type": "code",
   "execution_count": 9,
   "metadata": {},
   "outputs": [
    {
     "data": {
      "text/plain": [
       "0"
      ]
     },
     "execution_count": 9,
     "metadata": {},
     "output_type": "execute_result"
    }
   ],
   "source": [
    "sum(df.transport_type.isna())"
   ]
  },
  {
   "cell_type": "code",
   "execution_count": 10,
   "metadata": {},
   "outputs": [
    {
     "data": {
      "image/png": "[encoded data removed]",
      "text/plain": [
       "<Figure size 1080x360 with 1 Axes>"
      ]
     },
     "metadata": {
      "needs_background": "light"
     },
     "output_type": "display_data"
    }
   ],
   "source": [
    "df.sent = pd.to_datetime(df.sent, format='%y-%m-%d %H:%M')\n",
    "df.set_index(df.sent, inplace=True)\n",
    "df.to_period('M').groupby(level=0).nunique().plot.bar(figsize=(15,5));"
   ]
  },
  {
   "cell_type": "code",
   "execution_count": 14,
   "metadata": {},
   "outputs": [
    {
     "data": {
      "image/png": "[encoded data removed]",
      "text/plain": [
       "<Figure size 1080x576 with 8 Axes>"
      ]
     },
     "metadata": {
      "needs_background": "light"
     },
     "output_type": "display_data"
    }
   ],
   "source": [
    "fig, axes = plt.subplots(4, 2, figsize=(15,8))\n",
    "plt.subplots_adjust(hspace=0.35, bottom=0)\n",
    "axes = axes.flatten()\n",
    "i = 0\n",
    "for col in df.columns:\n",
    "    df.to_period('M').groupby(level=0).nunique()[col].plot.line(ax=axes[i], title=col)\n",
    "    i += 1"
   ]
  },
  {
   "cell_type": "code",
   "execution_count": 11,
   "metadata": {},
   "outputs": [
    {
     "data": {
      "text/plain": [
       "count    6406.000000\n",
       "mean      -23.472966\n",
       "std         0.026615\n",
       "min       -23.521342\n",
       "25%       -23.494301\n",
       "50%       -23.469946\n",
       "75%       -23.453273\n",
       "max       -23.414851\n",
       "Name: lat, dtype: float64"
      ]
     },
     "execution_count": 11,
     "metadata": {},
     "output_type": "execute_result"
    }
   ],
   "source": [
    "df.lat.describe()"
   ]
  },
  {
   "cell_type": "markdown",
   "metadata": {},
   "source": [
    "**Important**:\n",
    "- itinerary_id appears after 2019-12\n",
    "- There is a positive (increment) trend in the number of data points from left to right (timeline)"
   ]
  },
  {
   "cell_type": "markdown",
   "metadata": {},
   "source": [
    "- **Unnamed**: aparenta ser una especie de integer id unico para el archivo pero no para los dos archivos por lo que podria ser el resultado de algun export que se hizo para generar los CSVs. Posiblemente descartable.\n",
    "- **id**: aparenta ser un string(32) unico no nulo que identifica la disponibilidad de un driver en un momento dato.\n",
    "- **driver_id**: string(32) que identifica al conductor. No hay valores nulos. Puede repetirse.\n",
    "- **itinerary_id**: string(32) que identifica el itinerario posiblemente asignado al conductor. Puede ser nulo y posiblemente signifique que no se ha asignado ningun conductor. Puede repetirse muy pocas veces y en todos los casos que se repitio el driver_id es el mismo. Varia id, ubicacion y horario en rangos pequenos.\n",
    "- **lat**: latitude (plot pending to observe locations) no null found\n",
    "- **lng**: longitude (plot pending to observe locations) no null found\n",
    "- **sent**: datetime fmt('%y-%m-%d %H:%M') no null found\n",
    "- **tranport_type**: int category (1, 3 or 4) no null found"
   ]
  },
  {
   "cell_type": "markdown",
   "metadata": {},
   "source": [
    "# Availability Drivers Dataset 2\n",
    "Es enorme por lo que voy a levantar el 0.1% de la misma (random selection)"
   ]
  },
  {
   "cell_type": "code",
   "execution_count": 15,
   "metadata": {},
   "outputs": [
    {
     "name": "stdout",
     "output_type": "stream",
     "text": [
      "<class 'pandas.core.frame.DataFrame'>\n",
      "RangeIndex: 14787 entries, 0 to 14786\n",
      "Data columns (total 8 columns):\n",
      " #   Column          Non-Null Count  Dtype  \n",
      "---  ------          --------------  -----  \n",
      " 0   Unnamed: 0      14787 non-null  int64  \n",
      " 1   id              14787 non-null  object \n",
      " 2   driver_id       14787 non-null  object \n",
      " 3   itinerary_id    1149 non-null   object \n",
      " 4   lat             14787 non-null  float64\n",
      " 5   lng             14787 non-null  float64\n",
      " 6   sent            14787 non-null  object \n",
      " 7   transport_type  14787 non-null  int64  \n",
      "dtypes: float64(2), int64(2), object(4)\n",
      "memory usage: 924.3+ KB\n",
      "None\n"
     ]
    },
    {
     "data": {
      "text/html": [
       "<div>\n",
       "<style scoped>\n",
       "    .dataframe tbody tr th:only-of-type {\n",
       "        vertical-align: middle;\n",
       "    }\n",
       "\n",
       "    .dataframe tbody tr th {\n",
       "        vertical-align: top;\n",
       "    }\n",
       "\n",
       "    .dataframe thead th {\n",
       "        text-align: right;\n",
       "    }\n",
       "</style>\n",
       "<table border=\"1\" class=\"dataframe\">\n",
       "  <thead>\n",
       "    <tr style=\"text-align: right;\">\n",
       "      <th></th>\n",
       "      <th>Unnamed: 0</th>\n",
       "      <th>id</th>\n",
       "      <th>driver_id</th>\n",
       "      <th>itinerary_id</th>\n",
       "      <th>lat</th>\n",
       "      <th>lng</th>\n",
       "      <th>sent</th>\n",
       "      <th>transport_type</th>\n",
       "    </tr>\n",
       "  </thead>\n",
       "  <tbody>\n",
       "    <tr>\n",
       "      <th>0</th>\n",
       "      <td>1134</td>\n",
       "      <td>f4c83513f65075c399836e48e62fb59d</td>\n",
       "      <td>7e6494905bcbb7d8a13ab72edd0a2f1f</td>\n",
       "      <td>NaN</td>\n",
       "      <td>-23.637408</td>\n",
       "      <td>-46.542929</td>\n",
       "      <td>19-10-22 14:00</td>\n",
       "      <td>1</td>\n",
       "    </tr>\n",
       "    <tr>\n",
       "      <th>1</th>\n",
       "      <td>3146</td>\n",
       "      <td>3d16548fca67268eb28a8722421defdf</td>\n",
       "      <td>2f8c7dbbb9f7bc11396e67ee1acfc5e7</td>\n",
       "      <td>NaN</td>\n",
       "      <td>-23.603358</td>\n",
       "      <td>-46.511330</td>\n",
       "      <td>19-10-22 15:25</td>\n",
       "      <td>1</td>\n",
       "    </tr>\n",
       "    <tr>\n",
       "      <th>2</th>\n",
       "      <td>4181</td>\n",
       "      <td>95a3761a234d689af67285c0b2c7472e</td>\n",
       "      <td>a78a21fa82aafa2f0bf78b1efa17d952</td>\n",
       "      <td>NaN</td>\n",
       "      <td>-23.630101</td>\n",
       "      <td>-46.581020</td>\n",
       "      <td>19-10-22 16:05</td>\n",
       "      <td>1</td>\n",
       "    </tr>\n",
       "    <tr>\n",
       "      <th>3</th>\n",
       "      <td>4222</td>\n",
       "      <td>ee32f1e430b0caccc23dddcc36f76304</td>\n",
       "      <td>a75df49aa45b695c92825941bc69247d</td>\n",
       "      <td>NaN</td>\n",
       "      <td>-23.574360</td>\n",
       "      <td>-46.546597</td>\n",
       "      <td>19-10-22 16:10</td>\n",
       "      <td>1</td>\n",
       "    </tr>\n",
       "    <tr>\n",
       "      <th>4</th>\n",
       "      <td>5044</td>\n",
       "      <td>39c56472a1e59b190ea3e1e33bc0bfa2</td>\n",
       "      <td>afee5a2f0053fdacc13e5347cecf466d</td>\n",
       "      <td>NaN</td>\n",
       "      <td>-23.629175</td>\n",
       "      <td>-46.583447</td>\n",
       "      <td>19-10-22 16:45</td>\n",
       "      <td>1</td>\n",
       "    </tr>\n",
       "  </tbody>\n",
       "</table>\n",
       "</div>"
      ],
      "text/plain": [
       "   Unnamed: 0                                id  \\\n",
       "0        1134  f4c83513f65075c399836e48e62fb59d   \n",
       "1        3146  3d16548fca67268eb28a8722421defdf   \n",
       "2        4181  95a3761a234d689af67285c0b2c7472e   \n",
       "3        4222  ee32f1e430b0caccc23dddcc36f76304   \n",
       "4        5044  39c56472a1e59b190ea3e1e33bc0bfa2   \n",
       "\n",
       "                          driver_id itinerary_id        lat        lng  \\\n",
       "0  7e6494905bcbb7d8a13ab72edd0a2f1f          NaN -23.637408 -46.542929   \n",
       "1  2f8c7dbbb9f7bc11396e67ee1acfc5e7          NaN -23.603358 -46.511330   \n",
       "2  a78a21fa82aafa2f0bf78b1efa17d952          NaN -23.630101 -46.581020   \n",
       "3  a75df49aa45b695c92825941bc69247d          NaN -23.574360 -46.546597   \n",
       "4  afee5a2f0053fdacc13e5347cecf466d          NaN -23.629175 -46.583447   \n",
       "\n",
       "             sent  transport_type  \n",
       "0  19-10-22 14:00               1  \n",
       "1  19-10-22 15:25               1  \n",
       "2  19-10-22 16:05               1  \n",
       "3  19-10-22 16:10               1  \n",
       "4  19-10-22 16:45               1  "
      ]
     },
     "execution_count": 15,
     "metadata": {},
     "output_type": "execute_result"
    }
   ],
   "source": [
    "# Availability 2\n",
    "df = utils.read_csv_percent(files[1], percent=0.1)\n",
    "print(df.info())\n",
    "df.head()"
   ]
  },
  {
   "cell_type": "code",
   "execution_count": 16,
   "metadata": {},
   "outputs": [
    {
     "data": {
      "text/plain": [
       "Unnamed: 0        14787\n",
       "id                14787\n",
       "driver_id          3195\n",
       "itinerary_id       1127\n",
       "lat               14787\n",
       "lng               14787\n",
       "sent              13542\n",
       "transport_type        3\n",
       "dtype: int64"
      ]
     },
     "execution_count": 16,
     "metadata": {},
     "output_type": "execute_result"
    }
   ],
   "source": [
    "df.nunique()"
   ]
  },
  {
   "cell_type": "code",
   "execution_count": 17,
   "metadata": {},
   "outputs": [
    {
     "name": "stdout",
     "output_type": "stream",
     "text": [
      "Column id\n",
      "Rows with len(id) == 32: 14787\n",
      "Rows with len(id) == 0: 0\n",
      "Rows with len(id) != 32 & != 0: 0\n",
      "\n",
      "Column driver_id\n",
      "Rows with len(id) == 32: 14787\n",
      "Rows with len(id) == 0: 0\n",
      "Rows with len(id) != 32 & != 0: 0\n",
      "\n",
      "Column itinerary_id\n",
      "Rows with len(id) == 32: 1149\n",
      "Rows with len(id) == 0: 13638\n",
      "Rows with len(id) != 32 & != 0: 0\n",
      "\n"
     ]
    }
   ],
   "source": [
    "for col in ['id', 'driver_id', 'itinerary_id']:\n",
    "    lid = 'len_{}'.format(col) \n",
    "    df[lid] = df[col].apply(lambda x: len(x) if pd.notna(x) else 0)\n",
    "    print('Column', col)\n",
    "    print('Rows with len(id) == 32:', len(df[df[lid] == 32]))\n",
    "    print('Rows with len(id) == 0:', len(df[df[lid] == 0]))\n",
    "    print('Rows with len(id) != 32 & != 0:', len(df[~df[lid].isin([0, 32])]))\n",
    "    print()\n",
    "    del df[lid]"
   ]
  },
  {
   "cell_type": "code",
   "execution_count": 18,
   "metadata": {},
   "outputs": [
    {
     "name": "stdout",
     "output_type": "stream",
     "text": [
      "Duplicates itineraries_id: 20\n",
      "\n",
      "07bf6988f4b26c40bc36674ef98d3e24\n",
      "                             driver_id        lat        lng            sent  \\\n",
      "4155  3b97db75ff393470cdeb5e15d17529df -23.611105 -46.527269  20-02-01 08:10   \n",
      "4156  3b97db75ff393470cdeb5e15d17529df -23.612359 -46.526942  20-02-01 08:25   \n",
      "\n",
      "      transport_type  \n",
      "4155               1  \n",
      "4156               1  \n",
      "11d93f17829496160fa1ffd41aedb72c\n",
      "                             driver_id        lat        lng            sent  \\\n",
      "7121  a5e88b522720ab57f11f5ff833d7cdd6 -23.610925 -46.616276  20-03-09 08:10   \n",
      "7123  a5e88b522720ab57f11f5ff833d7cdd6 -23.617955 -46.619051  20-03-09 08:45   \n",
      "\n",
      "      transport_type  \n",
      "7121               1  \n",
      "7123               1  \n",
      "298de54fa8b0a4f83dfbb0545e9092b8\n",
      "                             driver_id        lat        lng            sent  \\\n",
      "4197  36ad102f1532147883fee7c6f5c0bb0f -23.644894 -46.568607  20-02-02 23:40   \n",
      "4216  36ad102f1532147883fee7c6f5c0bb0f -23.644892 -46.568619  20-02-03 09:50   \n",
      "\n",
      "      transport_type  \n",
      "4197               1  \n",
      "4216               1  \n",
      "2fa6db2bbc2d8a21ef61c32beb41bb04\n",
      "                             driver_id        lat        lng            sent  \\\n",
      "2566  4f5d3117774567da48c55920d968dbc7 -23.656600 -46.554323  20-01-01 04:00   \n",
      "2572  4f5d3117774567da48c55920d968dbc7 -23.656589 -46.554312  20-01-01 18:20   \n",
      "\n",
      "      transport_type  \n",
      "2566               1  \n",
      "2572               1  \n",
      "301956a9d806438ad77d2b8d9ad1b8f4\n",
      "                             driver_id        lat        lng            sent  \\\n",
      "4450  a07c52abb602de926b8273f07439c10f -23.559670 -46.570832  20-02-06 03:30   \n",
      "4452  a07c52abb602de926b8273f07439c10f -23.559673 -46.570829  20-02-06 03:50   \n",
      "\n",
      "      transport_type  \n",
      "4450               1  \n",
      "4452               1  \n",
      "31b78fe7a7883b79f83603dbba6b4401\n",
      "                             driver_id        lat        lng            sent  \\\n",
      "3192  ac58432254f24aafc0970ba6f9e89d9d -23.626796 -46.614583  20-01-14 22:50   \n",
      "3200  ac58432254f24aafc0970ba6f9e89d9d -23.626817 -46.614553  20-01-15 04:15   \n",
      "\n",
      "      transport_type  \n",
      "3192               1  \n",
      "3200               1  \n",
      "3fb1326cabf8a84be8c42df8f6516f5b\n",
      "                             driver_id        lat        lng            sent  \\\n",
      "5476  20964160d43b63e945f7ee6eabc5d99c -23.598475 -46.544128  20-02-19 05:20   \n",
      "5488  ad77556eaa40c943a56d4c22627f8af6 -23.585443 -46.615635  20-02-19 06:50   \n",
      "\n",
      "      transport_type  \n",
      "5476               1  \n",
      "5488               1  \n",
      "4c72f0cd0c92eab48914fe1e2c200167\n",
      "                             driver_id        lat        lng            sent  \\\n",
      "3719  542cb7f51a844f10efed3953d755af81 -23.570167 -46.592114  20-01-24 16:50   \n",
      "3737  542cb7f51a844f10efed3953d755af81 -23.574847 -46.534855  20-01-25 04:05   \n",
      "\n",
      "      transport_type  \n",
      "3719               1  \n",
      "3737               1  \n",
      "50dd01ae81e18f069fcf2197922d3eb3\n",
      "                             driver_id        lat        lng            sent  \\\n",
      "3428  a0765a853e43799fbc93694531f7a0a6 -23.605854 -46.515096  20-01-19 21:45   \n",
      "3439  a0765a853e43799fbc93694531f7a0a6 -23.605937 -46.515059  20-01-20 04:30   \n",
      "\n",
      "      transport_type  \n",
      "3428               1  \n",
      "3439               1  \n",
      "5b1830486fa47be018eb078c87477288\n",
      "                             driver_id        lat        lng            sent  \\\n",
      "5999  08a038f8a679d6ae74f9274b5dfbaabc -23.578442 -46.614789  20-02-26 07:30   \n",
      "6002  08a038f8a679d6ae74f9274b5dfbaabc -23.586886 -46.605343  20-02-26 08:10   \n",
      "\n",
      "      transport_type  \n",
      "5999               1  \n",
      "6002               1  \n",
      "727963aa1cf9e302236e3d987159b837\n",
      "                             driver_id        lat        lng            sent  \\\n",
      "3204  429a0cab3e7df258df5966e410a00c35 -23.604240 -46.604094  20-01-15 05:25   \n",
      "3212  429a0cab3e7df258df5966e410a00c35 -23.583046 -46.584147  20-01-15 07:15   \n",
      "\n",
      "      transport_type  \n",
      "3204               1  \n",
      "3212               1  \n",
      "7d93087944849dacee550437c5b8bb6e\n",
      "                             driver_id        lat        lng            sent  \\\n",
      "6910  30aaa035ea6addf3032dc3d63b674344 -23.610431 -46.560669  20-03-06 11:30   \n",
      "6913  30aaa035ea6addf3032dc3d63b674344 -23.642851 -46.539598  20-03-06 12:05   \n",
      "\n",
      "      transport_type  \n",
      "6910               1  \n",
      "6913               1  \n",
      "8034b96634104d69d8bff510800691ce\n",
      "                             driver_id        lat        lng            sent  \\\n",
      "6212  6080492a00b06c2982c52104aaac9715 -23.602799 -46.520424  20-02-28 09:20   \n",
      "6300  6080492a00b06c2982c52104aaac9715 -23.614673 -46.591901  20-02-29 02:30   \n",
      "6369  6080492a00b06c2982c52104aaac9715 -23.619169 -46.590964  20-03-01 08:45   \n",
      "6380  6080492a00b06c2982c52104aaac9715 -23.614641 -46.591946  20-03-01 14:00   \n",
      "\n",
      "      transport_type  \n",
      "6212               1  \n",
      "6300               1  \n",
      "6369               1  \n",
      "6380               1  \n",
      "9283faa05f7db5e749e30d6822047c8e\n",
      "                             driver_id        lat        lng            sent  \\\n",
      "6668  bc3d4c4bad93a3189d17554061ca09c3 -23.628384 -46.595130  20-03-04 12:00   \n",
      "6722  bc3d4c4bad93a3189d17554061ca09c3 -23.624731 -46.595677  20-03-05 03:15   \n",
      "\n",
      "      transport_type  \n",
      "6668               1  \n",
      "6722               1  \n",
      "a19a687cefb0c90249e34c639ee98c2e\n",
      "                             driver_id        lat        lng            sent  \\\n",
      "2320  9d20fde54fb6d93fe450e432b44a6afb -23.588558 -46.607259  19-12-21 15:35   \n",
      "3186  9d20fde54fb6d93fe450e432b44a6afb -23.626645 -46.590735  20-01-14 18:20   \n",
      "\n",
      "      transport_type  \n",
      "2320               1  \n",
      "3186               1  \n",
      "b9063506d471e70d5992b90ea188bf14\n",
      "                             driver_id        lat        lng            sent  \\\n",
      "3325  840592d57235880bd2a51201a88a1256 -23.619312 -46.612017  20-01-17 04:10   \n",
      "3367  840592d57235880bd2a51201a88a1256 -23.619472 -46.611931  20-01-17 21:25   \n",
      "\n",
      "      transport_type  \n",
      "3325               1  \n",
      "3367               1  \n",
      "ca72418c438e0222fe6feaffb3460617\n",
      "                             driver_id        lat        lng            sent  \\\n",
      "3730  33d5924d87783da83f2c5b8efba521dc -23.591974 -46.550501  20-01-25 01:35   \n",
      "3758  33d5924d87783da83f2c5b8efba521dc -23.597599 -46.553792  20-01-25 09:50   \n",
      "\n",
      "      transport_type  \n",
      "3730               1  \n",
      "3758               1  \n",
      "cb2178a1e536ef7dbfc8e201b0cceaa1\n",
      "                             driver_id        lat        lng            sent  \\\n",
      "3415  f2f6bc0630e2da11ed963d9df0c7edad -23.647790 -46.547892  20-01-19 05:25   \n",
      "3418  f2f6bc0630e2da11ed963d9df0c7edad -23.647773 -46.547881  20-01-19 08:00   \n",
      "\n",
      "      transport_type  \n",
      "3415               1  \n",
      "3418               1  \n",
      "d613cb91f3d165fc4b1d89f64346c6c0\n",
      "                             driver_id        lat        lng            sent  \\\n",
      "2389  617c181a885c90f068c2e78fb024b98d -23.583449 -46.568730  19-12-24 11:40   \n",
      "2405  617c181a885c90f068c2e78fb024b98d -23.601435 -46.564988  19-12-25 16:10   \n",
      "\n",
      "      transport_type  \n",
      "2389               1  \n",
      "2405               1  \n",
      "f87dc9c8577e6937a33f64dbd7125b11\n",
      "                             driver_id        lat        lng            sent  \\\n",
      "2645  a2009cf2998f8913414102cea3ef7dc8 -23.595507 -46.568157  20-01-03 16:45   \n",
      "2648  a2009cf2998f8913414102cea3ef7dc8 -23.603317 -46.568512  20-01-03 19:10   \n",
      "\n",
      "      transport_type  \n",
      "2645               1  \n",
      "2648               1  \n"
     ]
    }
   ],
   "source": [
    "dup_itineraries = df.groupby('itinerary_id').id.count().sort_values(ascending=False)\n",
    "dup_itineraries = [k for k, v in dup_itineraries.items() if v > 1]\n",
    "print('Duplicates itineraries_id: {}\\n'.format(len(dup_itineraries)))\n",
    "show = ['driver_id', 'lat', 'lng', 'sent', 'transport_type']\n",
    "#show = ['transport_type']\n",
    "for i, g in df[df.itinerary_id.isin(dup_itineraries)].groupby('itinerary_id'):\n",
    "    print(i)\n",
    "    print(g[show])"
   ]
  },
  {
   "cell_type": "code",
   "execution_count": 19,
   "metadata": {},
   "outputs": [
    {
     "data": {
      "text/plain": [
       "0"
      ]
     },
     "execution_count": 19,
     "metadata": {},
     "output_type": "execute_result"
    }
   ],
   "source": [
    "sum(df.lat.isna()) + sum(df.lng.isna())"
   ]
  },
  {
   "cell_type": "code",
   "execution_count": 20,
   "metadata": {},
   "outputs": [
    {
     "data": {
      "text/plain": [
       "0"
      ]
     },
     "execution_count": 20,
     "metadata": {},
     "output_type": "execute_result"
    }
   ],
   "source": [
    "sum(df.sent.isna())"
   ]
  },
  {
   "cell_type": "code",
   "execution_count": 21,
   "metadata": {},
   "outputs": [
    {
     "data": {
      "text/plain": [
       "array([1, 4, 3], dtype=int64)"
      ]
     },
     "execution_count": 21,
     "metadata": {},
     "output_type": "execute_result"
    }
   ],
   "source": [
    "df.transport_type.unique()"
   ]
  },
  {
   "cell_type": "code",
   "execution_count": 22,
   "metadata": {},
   "outputs": [
    {
     "data": {
      "text/plain": [
       "0"
      ]
     },
     "execution_count": 22,
     "metadata": {},
     "output_type": "execute_result"
    }
   ],
   "source": [
    "sum(df.transport_type.isna())"
   ]
  },
  {
   "cell_type": "markdown",
   "metadata": {},
   "source": [
    "We confirm in this dataset the same conclusions mentioned above"
   ]
  },
  {
   "cell_type": "code",
   "execution_count": 23,
   "metadata": {},
   "outputs": [
    {
     "data": {
      "image/png": "[encoded data removed]",
      "text/plain": [
       "<Figure size 1080x360 with 1 Axes>"
      ]
     },
     "metadata": {
      "needs_background": "light"
     },
     "output_type": "display_data"
    }
   ],
   "source": [
    "df.sent = pd.to_datetime(df.sent, format='%y-%m-%d %H:%M')\n",
    "df.set_index(df.sent, inplace=True)\n",
    "df.to_period('M').groupby(level=0).nunique().plot.bar(figsize=(15,5));"
   ]
  },
  {
   "cell_type": "code",
   "execution_count": 24,
   "metadata": {},
   "outputs": [
    {
     "data": {
      "image/png": "[encoded data removed]",
      "text/plain": [
       "<Figure size 1080x576 with 8 Axes>"
      ]
     },
     "metadata": {
      "needs_background": "light"
     },
     "output_type": "display_data"
    }
   ],
   "source": [
    "fig, axes = plt.subplots(4, 2, figsize=(15,8))\n",
    "plt.subplots_adjust(hspace=0.35, bottom=0)\n",
    "axes = axes.flatten()\n",
    "i = 0\n",
    "for col in df.columns:\n",
    "    df.to_period('M').groupby(level=0).nunique()[col].plot.line(ax=axes[i], title=col)\n",
    "    i += 1"
   ]
  },
  {
   "cell_type": "markdown",
   "metadata": {},
   "source": [
    "## TODO: check if availability 1 and 2 have duplicated ID"
   ]
  },
  {
   "cell_type": "code",
   "execution_count": 25,
   "metadata": {},
   "outputs": [],
   "source": [
    "# Will upload one day with all rows of each dataset\n",
    "def load_sent_on(filename, date='19-10-22'):\n",
    "    # Sequential Access\n",
    "    df = False\n",
    "    chunksize = 10 ** 4\n",
    "    for chunk in pd.read_csv(filename, chunksize=chunksize):\n",
    "        condition = chunk['sent'].str.startswith(date)\n",
    "        if sum(condition) > 0:\n",
    "            if type(df) == bool:\n",
    "                df = chunk[condition]\n",
    "            else:\n",
    "                df = pd.concat([df, chunk[condition]])\n",
    "\n",
    "    return df"
   ]
  },
  {
   "cell_type": "code",
   "execution_count": 26,
   "metadata": {},
   "outputs": [],
   "source": [
    "df1 = load_sent_on(files[0], '20-01-01')"
   ]
  },
  {
   "cell_type": "code",
   "execution_count": 27,
   "metadata": {},
   "outputs": [],
   "source": [
    "df2 = load_sent_on(files[1], '20-01-01')"
   ]
  },
  {
   "cell_type": "code",
   "execution_count": 28,
   "metadata": {},
   "outputs": [
    {
     "name": "stdout",
     "output_type": "stream",
     "text": [
      "<class 'pandas.core.frame.DataFrame'>\n",
      "Int64Index: 8057 entries, 1362266 to 1370322\n",
      "Data columns (total 8 columns):\n",
      " #   Column          Non-Null Count  Dtype  \n",
      "---  ------          --------------  -----  \n",
      " 0   Unnamed: 0      8057 non-null   int64  \n",
      " 1   id              8057 non-null   object \n",
      " 2   driver_id       8057 non-null   object \n",
      " 3   itinerary_id    2364 non-null   object \n",
      " 4   lat             8057 non-null   float64\n",
      " 5   lng             8057 non-null   float64\n",
      " 6   sent            8057 non-null   object \n",
      " 7   transport_type  8057 non-null   int64  \n",
      "dtypes: float64(2), int64(2), object(4)\n",
      "memory usage: 566.5+ KB\n"
     ]
    }
   ],
   "source": [
    "df1.info()"
   ]
  },
  {
   "cell_type": "code",
   "execution_count": 29,
   "metadata": {},
   "outputs": [
    {
     "name": "stdout",
     "output_type": "stream",
     "text": [
      "<class 'pandas.core.frame.DataFrame'>\n",
      "Int64Index: 10573 entries, 2679808 to 2690380\n",
      "Data columns (total 8 columns):\n",
      " #   Column          Non-Null Count  Dtype  \n",
      "---  ------          --------------  -----  \n",
      " 0   Unnamed: 0      10573 non-null  int64  \n",
      " 1   id              10573 non-null  object \n",
      " 2   driver_id       10573 non-null  object \n",
      " 3   itinerary_id    4812 non-null   object \n",
      " 4   lat             10573 non-null  float64\n",
      " 5   lng             10573 non-null  float64\n",
      " 6   sent            10573 non-null  object \n",
      " 7   transport_type  10573 non-null  int64  \n",
      "dtypes: float64(2), int64(2), object(4)\n",
      "memory usage: 743.4+ KB\n"
     ]
    }
   ],
   "source": [
    "df2.info()"
   ]
  },
  {
   "cell_type": "code",
   "execution_count": 30,
   "metadata": {},
   "outputs": [
    {
     "name": "stdout",
     "output_type": "stream",
     "text": [
      "Unique values for \"id\" in df1: 8057\n",
      "Rows found in df2 with same value for id: 0\n",
      "Unique values for \"driver_id\" in df1: 142\n",
      "Rows found in df2 with same value for driver_id: 0\n",
      "Unique values for \"itinerary_id\" in df1: 26\n",
      "Rows found in df2 with same value for itinerary_id: 0\n"
     ]
    }
   ],
   "source": [
    "for col in ['id', 'driver_id', 'itinerary_id']:\n",
    "    print('Unique values for \"{}\" in df1: {}'.format(col, df1[col].nunique()))\n",
    "    print('Rows found in df2 with same value for {}: {}'.format(\n",
    "            col, df2[df2.id.isin(df1['id'].unique())]['id'].count()))"
   ]
  },
  {
   "cell_type": "code",
   "execution_count": null,
   "metadata": {},
   "outputs": [],
   "source": []
  }
 ],
 "metadata": {
  "kernelspec": {
   "display_name": "Python 3",
   "language": "python",
   "name": "python3"
  },
  "language_info": {
   "codemirror_mode": {
    "name": "ipython",
    "version": 3
   },
   "file_extension": ".py",
   "mimetype": "text/x-python",
   "name": "python",
   "nbconvert_exporter": "python",
   "pygments_lexer": "ipython3",
   "version": "3.8.2"
  }
 },
 "nbformat": 4,
 "nbformat_minor": 4
}
