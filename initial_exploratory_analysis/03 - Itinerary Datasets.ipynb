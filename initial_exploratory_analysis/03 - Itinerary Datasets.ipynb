{
 "cells": [
  {
   "cell_type": "markdown",
   "metadata": {},
   "source": [
    "# Itinerary Datasets"
   ]
  },
  {
   "cell_type": "code",
   "execution_count": 15,
   "metadata": {},
   "outputs": [],
   "source": [
    "%matplotlib inline\n",
    "import pandas as pd\n",
    "import numpy as np\n",
    "import random\n",
    "import matplotlib.pyplot as plt\n",
    "import os\n",
    "import practicum_utils as utils"
   ]
  },
  {
   "cell_type": "code",
   "execution_count": 16,
   "metadata": {},
   "outputs": [
    {
     "data": {
      "text/plain": [
       "['../data/supply/availability_dist1_ano.csv',\n",
       " '../data/supply/availability_dist2_ano.csv',\n",
       " '../data/supply/itinerary_dist1_ano.csv',\n",
       " '../data/supply/itinerary_dist2_ano.csv']"
      ]
     },
     "execution_count": 16,
     "metadata": {},
     "output_type": "execute_result"
    }
   ],
   "source": [
    "files = utils.get_loggi_files()\n",
    "files"
   ]
  },
  {
   "cell_type": "markdown",
   "metadata": {},
   "source": [
    "# Itinerary Drivers Dataset 1"
   ]
  },
  {
   "cell_type": "code",
   "execution_count": 17,
   "metadata": {},
   "outputs": [
    {
     "name": "stdout",
     "output_type": "stream",
     "text": [
      "<class 'pandas.core.frame.DataFrame'>\n",
      "RangeIndex: 20991 entries, 0 to 20990\n",
      "Data columns (total 25 columns):\n",
      " #   Column                Non-Null Count  Dtype  \n",
      "---  ------                --------------  -----  \n",
      " 0   Unnamed: 0            20991 non-null  int64  \n",
      " 1   itinerary_id          20991 non-null  object \n",
      " 2   driver_id             18284 non-null  object \n",
      " 3   created               20991 non-null  object \n",
      " 4   accepted              18284 non-null  object \n",
      " 5   dropped               1578 non-null   object \n",
      " 6   started               18133 non-null  object \n",
      " 7   finished              19002 non-null  object \n",
      " 8   status                20991 non-null  object \n",
      " 9   total_distance        20991 non-null  int64  \n",
      " 10  transport_type        20991 non-null  object \n",
      " 11  product               20991 non-null  object \n",
      " 12  product_version       20991 non-null  object \n",
      " 13  distribution_center1  20991 non-null  int64  \n",
      " 14  packages              18150 non-null  float64\n",
      " 15  delivered_packages    18150 non-null  float64\n",
      " 16  checked_in_at         18069 non-null  object \n",
      " 17  pickup_checkout_at    17910 non-null  object \n",
      " 18  pickup_lat            20723 non-null  float64\n",
      " 19  pickup_lng            20723 non-null  float64\n",
      " 20  real_completion_time  17939 non-null  float64\n",
      " 21  pickup_distance       20991 non-null  int64  \n",
      " 22  pickup_time           17900 non-null  float64\n",
      " 23  check_in_time         18052 non-null  float64\n",
      " 24  waypoints             20991 non-null  int64  \n",
      "dtypes: float64(7), int64(5), object(13)\n",
      "memory usage: 4.0+ MB\n",
      "None\n"
     ]
    },
    {
     "data": {
      "text/html": [
       "<div>\n",
       "<style scoped>\n",
       "    .dataframe tbody tr th:only-of-type {\n",
       "        vertical-align: middle;\n",
       "    }\n",
       "\n",
       "    .dataframe tbody tr th {\n",
       "        vertical-align: top;\n",
       "    }\n",
       "\n",
       "    .dataframe thead th {\n",
       "        text-align: right;\n",
       "    }\n",
       "</style>\n",
       "<table border=\"1\" class=\"dataframe\">\n",
       "  <thead>\n",
       "    <tr style=\"text-align: right;\">\n",
       "      <th></th>\n",
       "      <th>Unnamed: 0</th>\n",
       "      <th>itinerary_id</th>\n",
       "      <th>driver_id</th>\n",
       "      <th>created</th>\n",
       "      <th>accepted</th>\n",
       "      <th>dropped</th>\n",
       "      <th>started</th>\n",
       "      <th>finished</th>\n",
       "      <th>status</th>\n",
       "      <th>total_distance</th>\n",
       "      <th>...</th>\n",
       "      <th>delivered_packages</th>\n",
       "      <th>checked_in_at</th>\n",
       "      <th>pickup_checkout_at</th>\n",
       "      <th>pickup_lat</th>\n",
       "      <th>pickup_lng</th>\n",
       "      <th>real_completion_time</th>\n",
       "      <th>pickup_distance</th>\n",
       "      <th>pickup_time</th>\n",
       "      <th>check_in_time</th>\n",
       "      <th>waypoints</th>\n",
       "    </tr>\n",
       "  </thead>\n",
       "  <tbody>\n",
       "    <tr>\n",
       "      <th>0</th>\n",
       "      <td>0</td>\n",
       "      <td>59bf54f6d9bf16ab8c76578f8b03e8bb</td>\n",
       "      <td>5e506cfcfb7cd4d3181b6abba4c76456</td>\n",
       "      <td>19-12-19 09:00</td>\n",
       "      <td>19-12-19 09:05</td>\n",
       "      <td>NaN</td>\n",
       "      <td>19-12-19 09:05</td>\n",
       "      <td>19-12-19 11:16</td>\n",
       "      <td>finished</td>\n",
       "      <td>43434</td>\n",
       "      <td>...</td>\n",
       "      <td>5.0</td>\n",
       "      <td>19-12-19 09:43</td>\n",
       "      <td>19-12-19 09:45</td>\n",
       "      <td>-23.467847</td>\n",
       "      <td>-46.512231</td>\n",
       "      <td>7833.0</td>\n",
       "      <td>5837</td>\n",
       "      <td>1.933333</td>\n",
       "      <td>142.1000</td>\n",
       "      <td>11</td>\n",
       "    </tr>\n",
       "    <tr>\n",
       "      <th>1</th>\n",
       "      <td>1</td>\n",
       "      <td>9b9a4cad11ae393b832277b447f1a968</td>\n",
       "      <td>8d29dd0def2357eff973b20241ee8e4f</td>\n",
       "      <td>19-10-14 07:30</td>\n",
       "      <td>19-10-14 07:31</td>\n",
       "      <td>NaN</td>\n",
       "      <td>19-10-14 07:31</td>\n",
       "      <td>19-10-14 08:50</td>\n",
       "      <td>finished</td>\n",
       "      <td>32207</td>\n",
       "      <td>...</td>\n",
       "      <td>9.0</td>\n",
       "      <td>19-10-14 07:32</td>\n",
       "      <td>19-10-14 07:35</td>\n",
       "      <td>-23.467853</td>\n",
       "      <td>-46.512247</td>\n",
       "      <td>4764.0</td>\n",
       "      <td>1524</td>\n",
       "      <td>3.666667</td>\n",
       "      <td>179.0666</td>\n",
       "      <td>14</td>\n",
       "    </tr>\n",
       "    <tr>\n",
       "      <th>2</th>\n",
       "      <td>2</td>\n",
       "      <td>542d9fe1c00d45cb1e450adfea35521f</td>\n",
       "      <td>a26395e55f7dfbe49c6154b9984f259f</td>\n",
       "      <td>19-10-10 15:13</td>\n",
       "      <td>19-10-10 15:16</td>\n",
       "      <td>NaN</td>\n",
       "      <td>19-10-10 15:16</td>\n",
       "      <td>19-10-10 15:59</td>\n",
       "      <td>finished</td>\n",
       "      <td>18853</td>\n",
       "      <td>...</td>\n",
       "      <td>1.0</td>\n",
       "      <td>19-10-10 15:17</td>\n",
       "      <td>19-10-10 15:22</td>\n",
       "      <td>-23.467844</td>\n",
       "      <td>-46.512233</td>\n",
       "      <td>2598.0</td>\n",
       "      <td>18853</td>\n",
       "      <td>5.350000</td>\n",
       "      <td>179.5833</td>\n",
       "      <td>2</td>\n",
       "    </tr>\n",
       "    <tr>\n",
       "      <th>3</th>\n",
       "      <td>3</td>\n",
       "      <td>9881771a89ba0ea95eef7130598aea25</td>\n",
       "      <td>fe0ebd7aa7e18d71b961a0ccbb8d6319</td>\n",
       "      <td>19-11-01 09:13</td>\n",
       "      <td>19-11-01 09:14</td>\n",
       "      <td>NaN</td>\n",
       "      <td>19-11-01 09:14</td>\n",
       "      <td>19-11-01 12:04</td>\n",
       "      <td>finished</td>\n",
       "      <td>31535</td>\n",
       "      <td>...</td>\n",
       "      <td>9.0</td>\n",
       "      <td>19-11-01 10:05</td>\n",
       "      <td>19-11-01 10:15</td>\n",
       "      <td>-23.467831</td>\n",
       "      <td>-46.512223</td>\n",
       "      <td>10211.0</td>\n",
       "      <td>14281</td>\n",
       "      <td>9.850000</td>\n",
       "      <td>129.6000</td>\n",
       "      <td>10</td>\n",
       "    </tr>\n",
       "    <tr>\n",
       "      <th>4</th>\n",
       "      <td>4</td>\n",
       "      <td>a50ada6f391a4fcacdfc7072653f078f</td>\n",
       "      <td>f4e0f38852ef321b7989a87a9639e419</td>\n",
       "      <td>19-11-06 06:10</td>\n",
       "      <td>19-11-06 06:14</td>\n",
       "      <td>NaN</td>\n",
       "      <td>19-11-06 06:14</td>\n",
       "      <td>19-11-06 08:51</td>\n",
       "      <td>finished</td>\n",
       "      <td>74262</td>\n",
       "      <td>...</td>\n",
       "      <td>9.0</td>\n",
       "      <td>19-11-06 06:45</td>\n",
       "      <td>19-11-06 07:13</td>\n",
       "      <td>-23.467841</td>\n",
       "      <td>-46.512218</td>\n",
       "      <td>9413.0</td>\n",
       "      <td>16668</td>\n",
       "      <td>27.916667</td>\n",
       "      <td>149.3666</td>\n",
       "      <td>13</td>\n",
       "    </tr>\n",
       "  </tbody>\n",
       "</table>\n",
       "<p>5 rows × 25 columns</p>\n",
       "</div>"
      ],
      "text/plain": [
       "   Unnamed: 0                      itinerary_id  \\\n",
       "0           0  59bf54f6d9bf16ab8c76578f8b03e8bb   \n",
       "1           1  9b9a4cad11ae393b832277b447f1a968   \n",
       "2           2  542d9fe1c00d45cb1e450adfea35521f   \n",
       "3           3  9881771a89ba0ea95eef7130598aea25   \n",
       "4           4  a50ada6f391a4fcacdfc7072653f078f   \n",
       "\n",
       "                          driver_id         created        accepted dropped  \\\n",
       "0  5e506cfcfb7cd4d3181b6abba4c76456  19-12-19 09:00  19-12-19 09:05     NaN   \n",
       "1  8d29dd0def2357eff973b20241ee8e4f  19-10-14 07:30  19-10-14 07:31     NaN   \n",
       "2  a26395e55f7dfbe49c6154b9984f259f  19-10-10 15:13  19-10-10 15:16     NaN   \n",
       "3  fe0ebd7aa7e18d71b961a0ccbb8d6319  19-11-01 09:13  19-11-01 09:14     NaN   \n",
       "4  f4e0f38852ef321b7989a87a9639e419  19-11-06 06:10  19-11-06 06:14     NaN   \n",
       "\n",
       "          started        finished    status  total_distance  ...  \\\n",
       "0  19-12-19 09:05  19-12-19 11:16  finished           43434  ...   \n",
       "1  19-10-14 07:31  19-10-14 08:50  finished           32207  ...   \n",
       "2  19-10-10 15:16  19-10-10 15:59  finished           18853  ...   \n",
       "3  19-11-01 09:14  19-11-01 12:04  finished           31535  ...   \n",
       "4  19-11-06 06:14  19-11-06 08:51  finished           74262  ...   \n",
       "\n",
       "  delivered_packages   checked_in_at pickup_checkout_at  pickup_lat  \\\n",
       "0                5.0  19-12-19 09:43     19-12-19 09:45  -23.467847   \n",
       "1                9.0  19-10-14 07:32     19-10-14 07:35  -23.467853   \n",
       "2                1.0  19-10-10 15:17     19-10-10 15:22  -23.467844   \n",
       "3                9.0  19-11-01 10:05     19-11-01 10:15  -23.467831   \n",
       "4                9.0  19-11-06 06:45     19-11-06 07:13  -23.467841   \n",
       "\n",
       "   pickup_lng  real_completion_time pickup_distance pickup_time  \\\n",
       "0  -46.512231                7833.0            5837    1.933333   \n",
       "1  -46.512247                4764.0            1524    3.666667   \n",
       "2  -46.512233                2598.0           18853    5.350000   \n",
       "3  -46.512223               10211.0           14281    9.850000   \n",
       "4  -46.512218                9413.0           16668   27.916667   \n",
       "\n",
       "   check_in_time  waypoints  \n",
       "0       142.1000         11  \n",
       "1       179.0666         14  \n",
       "2       179.5833          2  \n",
       "3       129.6000         10  \n",
       "4       149.3666         13  \n",
       "\n",
       "[5 rows x 25 columns]"
      ]
     },
     "execution_count": 17,
     "metadata": {},
     "output_type": "execute_result"
    }
   ],
   "source": [
    "df = pd.read_csv(files[2])\n",
    "print(df.info())\n",
    "df.head()"
   ]
  },
  {
   "cell_type": "code",
   "execution_count": 18,
   "metadata": {},
   "outputs": [
    {
     "data": {
      "text/plain": [
       "Unnamed: 0              20991\n",
       "itinerary_id            20991\n",
       "driver_id                1610\n",
       "created                 13085\n",
       "accepted                13739\n",
       "dropped                   948\n",
       "started                 13621\n",
       "finished                16306\n",
       "status                      9\n",
       "total_distance          17603\n",
       "transport_type              2\n",
       "product                     1\n",
       "product_version             2\n",
       "distribution_center1        1\n",
       "packages                   46\n",
       "delivered_packages         46\n",
       "checked_in_at           14528\n",
       "pickup_checkout_at      15259\n",
       "pickup_lat              20723\n",
       "pickup_lng              20723\n",
       "real_completion_time    11188\n",
       "pickup_distance          8430\n",
       "pickup_time              2220\n",
       "check_in_time            4113\n",
       "waypoints                  48\n",
       "dtype: int64"
      ]
     },
     "execution_count": 18,
     "metadata": {},
     "output_type": "execute_result"
    }
   ],
   "source": [
    "df.nunique()"
   ]
  },
  {
   "cell_type": "code",
   "execution_count": 19,
   "metadata": {},
   "outputs": [
    {
     "data": {
      "text/plain": [
       "Unnamed: 0                  0\n",
       "itinerary_id                0\n",
       "driver_id                2707\n",
       "created                     0\n",
       "accepted                 2707\n",
       "dropped                 19413\n",
       "started                  2858\n",
       "finished                 1989\n",
       "status                      0\n",
       "total_distance              0\n",
       "transport_type              0\n",
       "product                     0\n",
       "product_version             0\n",
       "distribution_center1        0\n",
       "packages                 2841\n",
       "delivered_packages       2841\n",
       "checked_in_at            2922\n",
       "pickup_checkout_at       3081\n",
       "pickup_lat                268\n",
       "pickup_lng                268\n",
       "real_completion_time     3052\n",
       "pickup_distance             0\n",
       "pickup_time              3091\n",
       "check_in_time            2939\n",
       "waypoints                   0\n",
       "dtype: int64"
      ]
     },
     "execution_count": 19,
     "metadata": {},
     "output_type": "execute_result"
    }
   ],
   "source": [
    "df.isnull().sum()"
   ]
  },
  {
   "cell_type": "code",
   "execution_count": 20,
   "metadata": {},
   "outputs": [
    {
     "name": "stdout",
     "output_type": "stream",
     "text": [
      "to_datetime(created)...\n",
      "to_datetime(accepted)...\n",
      "to_datetime(dropped)...\n",
      "to_datetime(started)...\n",
      "to_datetime(finished)...\n",
      "to_datetime(checked_in_at)...\n",
      "to_datetime(pickup_checkout_at)...\n"
     ]
    }
   ],
   "source": [
    "date_columns = ['created', 'accepted', 'dropped', 'started', 'finished', 'checked_in_at', 'pickup_checkout_at']\n",
    "for col in date_columns:\n",
    "    print('to_datetime({})...'.format(col))\n",
    "    df[col] = pd.to_datetime(df[col], format='%y-%m-%d %H:%M')    "
   ]
  },
  {
   "cell_type": "code",
   "execution_count": 21,
   "metadata": {},
   "outputs": [
    {
     "data": {
      "image/png": "[encoded data removed]",
      "text/plain": [
       "<Figure size 432x288 with 1 Axes>"
      ]
     },
     "metadata": {
      "needs_background": "light"
     },
     "output_type": "display_data"
    }
   ],
   "source": [
    "df[(df.status == 'finished')].groupby(df['finished'].dt.date)['itinerary_id'].count().plot();"
   ]
  },
  {
   "cell_type": "code",
   "execution_count": 22,
   "metadata": {},
   "outputs": [
    {
     "data": {
      "image/png": "[encoded data removed]",
      "text/plain": [
       "<Figure size 432x288 with 1 Axes>"
      ]
     },
     "metadata": {
      "needs_background": "light"
     },
     "output_type": "display_data"
    }
   ],
   "source": [
    "df[(df.status == 'finished')].groupby(df['finished'].dt.hour)['itinerary_id'].count().plot();"
   ]
  },
  {
   "cell_type": "code",
   "execution_count": 9,
   "metadata": {},
   "outputs": [
    {
     "data": {
      "image/png": "[encoded data removed]",
      "text/plain": [
       "<Figure size 1080x360 with 1 Axes>"
      ]
     },
     "metadata": {
      "needs_background": "light"
     },
     "output_type": "display_data"
    }
   ],
   "source": [
    "fig, ax = plt.subplots(figsize=(15,5))\n",
    "for s, g in df[(df.created.notnull()) & (df.status.notnull())].groupby('status'):\n",
    "    g.groupby(g.created.dt.date).itinerary_id.count().plot(ax=ax, label=s)\n",
    "plt.legend();"
   ]
  },
  {
   "cell_type": "code",
   "execution_count": 10,
   "metadata": {},
   "outputs": [
    {
     "data": {
      "text/plain": [
       "driver_id\n",
       "abae2bc074c8b4af3a7272b12ba66510    190\n",
       "fae272b321c99415bc913513053c5fd2    187\n",
       "ca2bdbb2d3b802403205f9d619cc3834    183\n",
       "4416d590c9179a08081ba762d365b799    178\n",
       "4a4fc0609d5e034e8e35adf86ed4df9b    176\n",
       "                                   ... \n",
       "bba9c5320af1e4adcee64a26ee0a7c88      1\n",
       "bbc49c52cfe23121ce31b919680d8a9d      1\n",
       "519b95dc19454e3fc0af5c6f0e835a66      1\n",
       "518f8ca76e3b5086aabdf67b3edff8cf      1\n",
       "fff46f973ad5d3d7a3539924502d228d      1\n",
       "Name: itinerary_id, Length: 1610, dtype: int64"
      ]
     },
     "execution_count": 10,
     "metadata": {},
     "output_type": "execute_result"
    }
   ],
   "source": [
    "df.groupby('driver_id').itinerary_id.count().sort_values(ascending=False)"
   ]
  },
  {
   "cell_type": "code",
   "execution_count": 11,
   "metadata": {},
   "outputs": [
    {
     "data": {
      "text/plain": [
       "count    1610.000000\n",
       "mean       11.356522\n",
       "std        22.160825\n",
       "min         1.000000\n",
       "25%         1.000000\n",
       "50%         3.000000\n",
       "75%        10.000000\n",
       "max       190.000000\n",
       "Name: itinerary_id, dtype: float64"
      ]
     },
     "execution_count": 11,
     "metadata": {},
     "output_type": "execute_result"
    }
   ],
   "source": [
    "df.groupby('driver_id').itinerary_id.count().describe()"
   ]
  },
  {
   "cell_type": "code",
   "execution_count": 12,
   "metadata": {},
   "outputs": [
    {
     "data": {
      "text/plain": [
       "<matplotlib.axes._subplots.AxesSubplot at 0x170cd4a3250>"
      ]
     },
     "execution_count": 12,
     "metadata": {},
     "output_type": "execute_result"
    },
    {
     "data": {
      "image/png": "[encoded data removed]",
      "text/plain": [
       "<Figure size 432x288 with 1 Axes>"
      ]
     },
     "metadata": {
      "needs_background": "light"
     },
     "output_type": "display_data"
    }
   ],
   "source": [
    "df.groupby('driver_id').itinerary_id.count().hist(bins=50)"
   ]
  },
  {
   "cell_type": "code",
   "execution_count": 13,
   "metadata": {},
   "outputs": [
    {
     "data": {
      "text/plain": [
       "driver_id\n",
       "0046f76358739fbd984b7d7d5aadd845      4\n",
       "0052e0a5b243cb0855827577443dcf97     64\n",
       "00745ea188d28f5e383123ca2e4459d2      2\n",
       "00bf731677e64a1d2070c52fc97d3908      1\n",
       "0100aa06c9be0a9c6f80647bcda96585      1\n",
       "                                   ... \n",
       "fef218a2eb315c218cdaef7129a7a6cc     78\n",
       "ff041fde5b7cdebdd2f34b23232af70f     15\n",
       "ffb12f6fe6339fe910736f3050ef4638      3\n",
       "ffdb5ceab0617e621e87d6169c0c3806    152\n",
       "fff46f973ad5d3d7a3539924502d228d      1\n",
       "Name: itinerary_id, Length: 1610, dtype: int64"
      ]
     },
     "execution_count": 13,
     "metadata": {},
     "output_type": "execute_result"
    }
   ],
   "source": [
    "#df.groupby('driver_id').itinerary_id.apply(lambda x: x.count() if x.count() < 33 else np.nan).reset_index(name='count')\n",
    "df.groupby('driver_id').itinerary_id.count()"
   ]
  },
  {
   "cell_type": "code",
   "execution_count": 14,
   "metadata": {},
   "outputs": [
    {
     "data": {
      "text/html": [
       "<div>\n",
       "<style scoped>\n",
       "    .dataframe tbody tr th:only-of-type {\n",
       "        vertical-align: middle;\n",
       "    }\n",
       "\n",
       "    .dataframe tbody tr th {\n",
       "        vertical-align: top;\n",
       "    }\n",
       "\n",
       "    .dataframe thead th {\n",
       "        text-align: right;\n",
       "    }\n",
       "</style>\n",
       "<table border=\"1\" class=\"dataframe\">\n",
       "  <thead>\n",
       "    <tr style=\"text-align: right;\">\n",
       "      <th></th>\n",
       "      <th>driver_id</th>\n",
       "      <th>1std</th>\n",
       "    </tr>\n",
       "  </thead>\n",
       "  <tbody>\n",
       "    <tr>\n",
       "      <th>0</th>\n",
       "      <td>0046f76358739fbd984b7d7d5aadd845</td>\n",
       "      <td>True</td>\n",
       "    </tr>\n",
       "    <tr>\n",
       "      <th>1</th>\n",
       "      <td>0052e0a5b243cb0855827577443dcf97</td>\n",
       "      <td>False</td>\n",
       "    </tr>\n",
       "    <tr>\n",
       "      <th>2</th>\n",
       "      <td>00745ea188d28f5e383123ca2e4459d2</td>\n",
       "      <td>True</td>\n",
       "    </tr>\n",
       "    <tr>\n",
       "      <th>3</th>\n",
       "      <td>00bf731677e64a1d2070c52fc97d3908</td>\n",
       "      <td>True</td>\n",
       "    </tr>\n",
       "    <tr>\n",
       "      <th>4</th>\n",
       "      <td>0100aa06c9be0a9c6f80647bcda96585</td>\n",
       "      <td>True</td>\n",
       "    </tr>\n",
       "    <tr>\n",
       "      <th>...</th>\n",
       "      <td>...</td>\n",
       "      <td>...</td>\n",
       "    </tr>\n",
       "    <tr>\n",
       "      <th>1605</th>\n",
       "      <td>fef218a2eb315c218cdaef7129a7a6cc</td>\n",
       "      <td>False</td>\n",
       "    </tr>\n",
       "    <tr>\n",
       "      <th>1606</th>\n",
       "      <td>ff041fde5b7cdebdd2f34b23232af70f</td>\n",
       "      <td>True</td>\n",
       "    </tr>\n",
       "    <tr>\n",
       "      <th>1607</th>\n",
       "      <td>ffb12f6fe6339fe910736f3050ef4638</td>\n",
       "      <td>True</td>\n",
       "    </tr>\n",
       "    <tr>\n",
       "      <th>1608</th>\n",
       "      <td>ffdb5ceab0617e621e87d6169c0c3806</td>\n",
       "      <td>False</td>\n",
       "    </tr>\n",
       "    <tr>\n",
       "      <th>1609</th>\n",
       "      <td>fff46f973ad5d3d7a3539924502d228d</td>\n",
       "      <td>True</td>\n",
       "    </tr>\n",
       "  </tbody>\n",
       "</table>\n",
       "<p>1610 rows × 2 columns</p>\n",
       "</div>"
      ],
      "text/plain": [
       "                             driver_id   1std\n",
       "0     0046f76358739fbd984b7d7d5aadd845   True\n",
       "1     0052e0a5b243cb0855827577443dcf97  False\n",
       "2     00745ea188d28f5e383123ca2e4459d2   True\n",
       "3     00bf731677e64a1d2070c52fc97d3908   True\n",
       "4     0100aa06c9be0a9c6f80647bcda96585   True\n",
       "...                                ...    ...\n",
       "1605  fef218a2eb315c218cdaef7129a7a6cc  False\n",
       "1606  ff041fde5b7cdebdd2f34b23232af70f   True\n",
       "1607  ffb12f6fe6339fe910736f3050ef4638   True\n",
       "1608  ffdb5ceab0617e621e87d6169c0c3806  False\n",
       "1609  fff46f973ad5d3d7a3539924502d228d   True\n",
       "\n",
       "[1610 rows x 2 columns]"
      ]
     },
     "execution_count": 14,
     "metadata": {},
     "output_type": "execute_result"
    }
   ],
   "source": [
    "df.groupby('driver_id').itinerary_id.count().lt(33).reset_index(name='1std')"
   ]
  },
  {
   "cell_type": "code",
   "execution_count": 29,
   "metadata": {},
   "outputs": [
    {
     "data": {
      "text/html": [
       "<div>\n",
       "<style scoped>\n",
       "    .dataframe tbody tr th:only-of-type {\n",
       "        vertical-align: middle;\n",
       "    }\n",
       "\n",
       "    .dataframe tbody tr th {\n",
       "        vertical-align: top;\n",
       "    }\n",
       "\n",
       "    .dataframe thead th {\n",
       "        text-align: right;\n",
       "    }\n",
       "</style>\n",
       "<table border=\"1\" class=\"dataframe\">\n",
       "  <thead>\n",
       "    <tr style=\"text-align: right;\">\n",
       "      <th></th>\n",
       "      <th>Unnamed: 0</th>\n",
       "      <th>itinerary_id</th>\n",
       "      <th>driver_id</th>\n",
       "      <th>created</th>\n",
       "      <th>accepted</th>\n",
       "      <th>dropped</th>\n",
       "      <th>started</th>\n",
       "      <th>finished</th>\n",
       "      <th>status</th>\n",
       "      <th>total_distance</th>\n",
       "      <th>...</th>\n",
       "      <th>delivered_packages</th>\n",
       "      <th>checked_in_at</th>\n",
       "      <th>pickup_checkout_at</th>\n",
       "      <th>pickup_lat</th>\n",
       "      <th>pickup_lng</th>\n",
       "      <th>real_completion_time</th>\n",
       "      <th>pickup_distance</th>\n",
       "      <th>pickup_time</th>\n",
       "      <th>check_in_time</th>\n",
       "      <th>waypoints</th>\n",
       "    </tr>\n",
       "  </thead>\n",
       "  <tbody>\n",
       "    <tr>\n",
       "      <th>113</th>\n",
       "      <td>113</td>\n",
       "      <td>e13e35e3dca1049dee0b37c056770c23</td>\n",
       "      <td>2586c07179520b46ce6aa2af1c032d2e</td>\n",
       "      <td>2019-12-07 15:36:00</td>\n",
       "      <td>2019-12-08 08:30:00</td>\n",
       "      <td>NaT</td>\n",
       "      <td>2019-12-08 08:30:00</td>\n",
       "      <td>2019-12-09 13:35:00</td>\n",
       "      <td>finished</td>\n",
       "      <td>86391</td>\n",
       "      <td>...</td>\n",
       "      <td>9.0</td>\n",
       "      <td>2019-12-07 08:30:00</td>\n",
       "      <td>2019-12-07 08:40:00</td>\n",
       "      <td>-23.467830</td>\n",
       "      <td>-46.512246</td>\n",
       "      <td>104683.0</td>\n",
       "      <td>12686</td>\n",
       "      <td>10.0</td>\n",
       "      <td>1620.4500</td>\n",
       "      <td>13</td>\n",
       "    </tr>\n",
       "    <tr>\n",
       "      <th>364</th>\n",
       "      <td>364</td>\n",
       "      <td>90c7be905bf44c0f9f1d9af73ed0c08a</td>\n",
       "      <td>5a50de67f810f5450045a367a19fdb03</td>\n",
       "      <td>2020-02-04 11:51:00</td>\n",
       "      <td>2020-02-28 07:53:00</td>\n",
       "      <td>NaT</td>\n",
       "      <td>2020-02-28 07:53:00</td>\n",
       "      <td>2020-02-04 14:15:00</td>\n",
       "      <td>finished</td>\n",
       "      <td>30050</td>\n",
       "      <td>...</td>\n",
       "      <td>7.0</td>\n",
       "      <td>2020-02-04 11:54:00</td>\n",
       "      <td>2020-02-04 11:58:00</td>\n",
       "      <td>-23.467848</td>\n",
       "      <td>-46.512243</td>\n",
       "      <td>0.0</td>\n",
       "      <td>1471</td>\n",
       "      <td>3.9</td>\n",
       "      <td>34499.1166</td>\n",
       "      <td>11</td>\n",
       "    </tr>\n",
       "    <tr>\n",
       "      <th>590</th>\n",
       "      <td>590</td>\n",
       "      <td>1b69e61f0302a182aa0fc9297b2bbb60</td>\n",
       "      <td>e37834b1f5d8f6b231e703570307d91b</td>\n",
       "      <td>2019-11-15 11:21:00</td>\n",
       "      <td>2019-11-17 07:45:00</td>\n",
       "      <td>NaT</td>\n",
       "      <td>2019-11-17 07:45:00</td>\n",
       "      <td>2019-11-17 10:02:00</td>\n",
       "      <td>finished</td>\n",
       "      <td>52356</td>\n",
       "      <td>...</td>\n",
       "      <td>4.0</td>\n",
       "      <td>2019-11-15 07:46:00</td>\n",
       "      <td>2019-11-15 07:57:00</td>\n",
       "      <td>-23.467846</td>\n",
       "      <td>-46.512239</td>\n",
       "      <td>8217.0</td>\n",
       "      <td>14296</td>\n",
       "      <td>11.0</td>\n",
       "      <td>3059.2666</td>\n",
       "      <td>18</td>\n",
       "    </tr>\n",
       "    <tr>\n",
       "      <th>650</th>\n",
       "      <td>650</td>\n",
       "      <td>4c2368ad7acb8cf226c758b7bfa9dcea</td>\n",
       "      <td>369080c0bcc7480f3254758807297128</td>\n",
       "      <td>2019-11-17 11:21:00</td>\n",
       "      <td>2019-11-18 06:22:00</td>\n",
       "      <td>NaT</td>\n",
       "      <td>2019-11-18 06:22:00</td>\n",
       "      <td>2019-11-18 10:46:00</td>\n",
       "      <td>finished</td>\n",
       "      <td>63311</td>\n",
       "      <td>...</td>\n",
       "      <td>20.0</td>\n",
       "      <td>2019-11-17 06:22:00</td>\n",
       "      <td>2019-11-17 06:35:00</td>\n",
       "      <td>-23.467859</td>\n",
       "      <td>-46.512225</td>\n",
       "      <td>15822.0</td>\n",
       "      <td>17383</td>\n",
       "      <td>13.0</td>\n",
       "      <td>1620.6333</td>\n",
       "      <td>24</td>\n",
       "    </tr>\n",
       "    <tr>\n",
       "      <th>653</th>\n",
       "      <td>653</td>\n",
       "      <td>472a1c5079f49f5e1052904d3a2385c2</td>\n",
       "      <td>9c454e23267b520b621199fd4a79e3a6</td>\n",
       "      <td>2019-11-14 07:19:00</td>\n",
       "      <td>2019-11-16 07:32:00</td>\n",
       "      <td>NaT</td>\n",
       "      <td>2019-11-16 07:32:00</td>\n",
       "      <td>2019-11-16 10:41:00</td>\n",
       "      <td>finished</td>\n",
       "      <td>73885</td>\n",
       "      <td>...</td>\n",
       "      <td>14.0</td>\n",
       "      <td>2019-11-14 07:35:00</td>\n",
       "      <td>2019-11-14 07:59:00</td>\n",
       "      <td>-23.467839</td>\n",
       "      <td>-46.512229</td>\n",
       "      <td>11296.0</td>\n",
       "      <td>8782</td>\n",
       "      <td>24.0</td>\n",
       "      <td>3057.8000</td>\n",
       "      <td>24</td>\n",
       "    </tr>\n",
       "  </tbody>\n",
       "</table>\n",
       "<p>5 rows × 25 columns</p>\n",
       "</div>"
      ],
      "text/plain": [
       "     Unnamed: 0                      itinerary_id  \\\n",
       "113         113  e13e35e3dca1049dee0b37c056770c23   \n",
       "364         364  90c7be905bf44c0f9f1d9af73ed0c08a   \n",
       "590         590  1b69e61f0302a182aa0fc9297b2bbb60   \n",
       "650         650  4c2368ad7acb8cf226c758b7bfa9dcea   \n",
       "653         653  472a1c5079f49f5e1052904d3a2385c2   \n",
       "\n",
       "                            driver_id             created            accepted  \\\n",
       "113  2586c07179520b46ce6aa2af1c032d2e 2019-12-07 15:36:00 2019-12-08 08:30:00   \n",
       "364  5a50de67f810f5450045a367a19fdb03 2020-02-04 11:51:00 2020-02-28 07:53:00   \n",
       "590  e37834b1f5d8f6b231e703570307d91b 2019-11-15 11:21:00 2019-11-17 07:45:00   \n",
       "650  369080c0bcc7480f3254758807297128 2019-11-17 11:21:00 2019-11-18 06:22:00   \n",
       "653  9c454e23267b520b621199fd4a79e3a6 2019-11-14 07:19:00 2019-11-16 07:32:00   \n",
       "\n",
       "    dropped             started            finished    status  total_distance  \\\n",
       "113     NaT 2019-12-08 08:30:00 2019-12-09 13:35:00  finished           86391   \n",
       "364     NaT 2020-02-28 07:53:00 2020-02-04 14:15:00  finished           30050   \n",
       "590     NaT 2019-11-17 07:45:00 2019-11-17 10:02:00  finished           52356   \n",
       "650     NaT 2019-11-18 06:22:00 2019-11-18 10:46:00  finished           63311   \n",
       "653     NaT 2019-11-16 07:32:00 2019-11-16 10:41:00  finished           73885   \n",
       "\n",
       "     ... delivered_packages       checked_in_at  pickup_checkout_at  \\\n",
       "113  ...                9.0 2019-12-07 08:30:00 2019-12-07 08:40:00   \n",
       "364  ...                7.0 2020-02-04 11:54:00 2020-02-04 11:58:00   \n",
       "590  ...                4.0 2019-11-15 07:46:00 2019-11-15 07:57:00   \n",
       "650  ...               20.0 2019-11-17 06:22:00 2019-11-17 06:35:00   \n",
       "653  ...               14.0 2019-11-14 07:35:00 2019-11-14 07:59:00   \n",
       "\n",
       "     pickup_lat  pickup_lng  real_completion_time pickup_distance pickup_time  \\\n",
       "113  -23.467830  -46.512246              104683.0           12686        10.0   \n",
       "364  -23.467848  -46.512243                   0.0            1471         3.9   \n",
       "590  -23.467846  -46.512239                8217.0           14296        11.0   \n",
       "650  -23.467859  -46.512225               15822.0           17383        13.0   \n",
       "653  -23.467839  -46.512229               11296.0            8782        24.0   \n",
       "\n",
       "     check_in_time  waypoints  \n",
       "113      1620.4500         13  \n",
       "364     34499.1166         11  \n",
       "590      3059.2666         18  \n",
       "650      1620.6333         24  \n",
       "653      3057.8000         24  \n",
       "\n",
       "[5 rows x 25 columns]"
      ]
     },
     "execution_count": 29,
     "metadata": {},
     "output_type": "execute_result"
    }
   ],
   "source": [
    "df[df.check_in_time > 60*10].head()"
   ]
  },
  {
   "cell_type": "code",
   "execution_count": 28,
   "metadata": {},
   "outputs": [
    {
     "data": {
      "text/plain": [
       "count     18052.000000\n",
       "mean        220.160716\n",
       "std        1906.512506\n",
       "min        -694.766600\n",
       "25%         158.329125\n",
       "50%         176.350000\n",
       "75%         179.350000\n",
       "max      176363.433300\n",
       "Name: check_in_time, dtype: float64"
      ]
     },
     "execution_count": 28,
     "metadata": {},
     "output_type": "execute_result"
    }
   ],
   "source": [
    "df.check_in_time.describe()"
   ]
  },
  {
   "cell_type": "code",
   "execution_count": null,
   "metadata": {},
   "outputs": [],
   "source": []
  }
 ],
 "metadata": {
  "kernelspec": {
   "display_name": "Python 3",
   "language": "python",
   "name": "python3"
  },
  "language_info": {
   "codemirror_mode": {
    "name": "ipython",
    "version": 3
   },
   "file_extension": ".py",
   "mimetype": "text/x-python",
   "name": "python",
   "nbconvert_exporter": "python",
   "pygments_lexer": "ipython3",
   "version": "3.8.2"
  }
 },
 "nbformat": 4,
 "nbformat_minor": 4
}
