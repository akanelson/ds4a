{
 "cells": [
  {
   "cell_type": "markdown",
   "metadata": {},
   "source": [
    "# Itinerary Datasets"
   ]
  },
  {
   "cell_type": "code",
   "execution_count": 51,
   "metadata": {},
   "outputs": [],
   "source": [
    "%matplotlib inline\n",
    "import pandas as pd\n",
    "import numpy as np\n",
    "import random\n",
    "import matplotlib.pyplot as plt\n",
    "import os\n",
    "import practicum_utils as utils"
   ]
  },
  {
   "cell_type": "code",
   "execution_count": 2,
   "metadata": {},
   "outputs": [
    {
     "data": {
      "text/plain": [
       "['./data/supply/availability_dist1_ano.csv',\n",
       " './data/supply/availability_dist2_ano.csv',\n",
       " './data/supply/itinerary_dist1_ano.csv',\n",
       " './data/supply/itinerary_dist2_ano.csv']"
      ]
     },
     "execution_count": 2,
     "metadata": {},
     "output_type": "execute_result"
    }
   ],
   "source": [
    "files = utils.get_loggi_files()\n",
    "files"
   ]
  },
  {
   "cell_type": "markdown",
   "metadata": {},
   "source": [
    "# Itinerary Drivers Dataset 1"
   ]
  },
  {
   "cell_type": "code",
   "execution_count": 3,
   "metadata": {},
   "outputs": [
    {
     "name": "stdout",
     "output_type": "stream",
     "text": [
      "<class 'pandas.core.frame.DataFrame'>\n",
      "RangeIndex: 20991 entries, 0 to 20990\n",
      "Data columns (total 25 columns):\n",
      " #   Column                Non-Null Count  Dtype  \n",
      "---  ------                --------------  -----  \n",
      " 0   Unnamed: 0            20991 non-null  int64  \n",
      " 1   itinerary_id          20991 non-null  object \n",
      " 2   driver_id             18284 non-null  object \n",
      " 3   created               20991 non-null  object \n",
      " 4   accepted              18284 non-null  object \n",
      " 5   dropped               1578 non-null   object \n",
      " 6   started               18133 non-null  object \n",
      " 7   finished              19002 non-null  object \n",
      " 8   status                20991 non-null  object \n",
      " 9   total_distance        20991 non-null  int64  \n",
      " 10  transport_type        20991 non-null  object \n",
      " 11  product               20991 non-null  object \n",
      " 12  product_version       20991 non-null  object \n",
      " 13  distribution_center1  20991 non-null  int64  \n",
      " 14  packages              18150 non-null  float64\n",
      " 15  delivered_packages    18150 non-null  float64\n",
      " 16  checked_in_at         18069 non-null  object \n",
      " 17  pickup_checkout_at    17910 non-null  object \n",
      " 18  pickup_lat            20723 non-null  float64\n",
      " 19  pickup_lng            20723 non-null  float64\n",
      " 20  real_completion_time  17939 non-null  float64\n",
      " 21  pickup_distance       20991 non-null  int64  \n",
      " 22  pickup_time           17900 non-null  float64\n",
      " 23  check_in_time         18052 non-null  float64\n",
      " 24  waypoints             20991 non-null  int64  \n",
      "dtypes: float64(7), int64(5), object(13)\n",
      "memory usage: 4.0+ MB\n",
      "None\n"
     ]
    },
    {
     "data": {
      "text/html": [
       "<div>\n",
       "<style scoped>\n",
       "    .dataframe tbody tr th:only-of-type {\n",
       "        vertical-align: middle;\n",
       "    }\n",
       "\n",
       "    .dataframe tbody tr th {\n",
       "        vertical-align: top;\n",
       "    }\n",
       "\n",
       "    .dataframe thead th {\n",
       "        text-align: right;\n",
       "    }\n",
       "</style>\n",
       "<table border=\"1\" class=\"dataframe\">\n",
       "  <thead>\n",
       "    <tr style=\"text-align: right;\">\n",
       "      <th></th>\n",
       "      <th>Unnamed: 0</th>\n",
       "      <th>itinerary_id</th>\n",
       "      <th>driver_id</th>\n",
       "      <th>created</th>\n",
       "      <th>accepted</th>\n",
       "      <th>dropped</th>\n",
       "      <th>started</th>\n",
       "      <th>finished</th>\n",
       "      <th>status</th>\n",
       "      <th>total_distance</th>\n",
       "      <th>...</th>\n",
       "      <th>delivered_packages</th>\n",
       "      <th>checked_in_at</th>\n",
       "      <th>pickup_checkout_at</th>\n",
       "      <th>pickup_lat</th>\n",
       "      <th>pickup_lng</th>\n",
       "      <th>real_completion_time</th>\n",
       "      <th>pickup_distance</th>\n",
       "      <th>pickup_time</th>\n",
       "      <th>check_in_time</th>\n",
       "      <th>waypoints</th>\n",
       "    </tr>\n",
       "  </thead>\n",
       "  <tbody>\n",
       "    <tr>\n",
       "      <th>0</th>\n",
       "      <td>0</td>\n",
       "      <td>59bf54f6d9bf16ab8c76578f8b03e8bb</td>\n",
       "      <td>5e506cfcfb7cd4d3181b6abba4c76456</td>\n",
       "      <td>19-12-19 09:00</td>\n",
       "      <td>19-12-19 09:05</td>\n",
       "      <td>NaN</td>\n",
       "      <td>19-12-19 09:05</td>\n",
       "      <td>19-12-19 11:16</td>\n",
       "      <td>finished</td>\n",
       "      <td>43434</td>\n",
       "      <td>...</td>\n",
       "      <td>5.0</td>\n",
       "      <td>19-12-19 09:43</td>\n",
       "      <td>19-12-19 09:45</td>\n",
       "      <td>-23.467847</td>\n",
       "      <td>-46.512231</td>\n",
       "      <td>7833.0</td>\n",
       "      <td>5837</td>\n",
       "      <td>1.933333</td>\n",
       "      <td>142.1000</td>\n",
       "      <td>11</td>\n",
       "    </tr>\n",
       "    <tr>\n",
       "      <th>1</th>\n",
       "      <td>1</td>\n",
       "      <td>9b9a4cad11ae393b832277b447f1a968</td>\n",
       "      <td>8d29dd0def2357eff973b20241ee8e4f</td>\n",
       "      <td>19-10-14 07:30</td>\n",
       "      <td>19-10-14 07:31</td>\n",
       "      <td>NaN</td>\n",
       "      <td>19-10-14 07:31</td>\n",
       "      <td>19-10-14 08:50</td>\n",
       "      <td>finished</td>\n",
       "      <td>32207</td>\n",
       "      <td>...</td>\n",
       "      <td>9.0</td>\n",
       "      <td>19-10-14 07:32</td>\n",
       "      <td>19-10-14 07:35</td>\n",
       "      <td>-23.467853</td>\n",
       "      <td>-46.512247</td>\n",
       "      <td>4764.0</td>\n",
       "      <td>1524</td>\n",
       "      <td>3.666667</td>\n",
       "      <td>179.0666</td>\n",
       "      <td>14</td>\n",
       "    </tr>\n",
       "    <tr>\n",
       "      <th>2</th>\n",
       "      <td>2</td>\n",
       "      <td>542d9fe1c00d45cb1e450adfea35521f</td>\n",
       "      <td>a26395e55f7dfbe49c6154b9984f259f</td>\n",
       "      <td>19-10-10 15:13</td>\n",
       "      <td>19-10-10 15:16</td>\n",
       "      <td>NaN</td>\n",
       "      <td>19-10-10 15:16</td>\n",
       "      <td>19-10-10 15:59</td>\n",
       "      <td>finished</td>\n",
       "      <td>18853</td>\n",
       "      <td>...</td>\n",
       "      <td>1.0</td>\n",
       "      <td>19-10-10 15:17</td>\n",
       "      <td>19-10-10 15:22</td>\n",
       "      <td>-23.467844</td>\n",
       "      <td>-46.512233</td>\n",
       "      <td>2598.0</td>\n",
       "      <td>18853</td>\n",
       "      <td>5.350000</td>\n",
       "      <td>179.5833</td>\n",
       "      <td>2</td>\n",
       "    </tr>\n",
       "    <tr>\n",
       "      <th>3</th>\n",
       "      <td>3</td>\n",
       "      <td>9881771a89ba0ea95eef7130598aea25</td>\n",
       "      <td>fe0ebd7aa7e18d71b961a0ccbb8d6319</td>\n",
       "      <td>19-11-01 09:13</td>\n",
       "      <td>19-11-01 09:14</td>\n",
       "      <td>NaN</td>\n",
       "      <td>19-11-01 09:14</td>\n",
       "      <td>19-11-01 12:04</td>\n",
       "      <td>finished</td>\n",
       "      <td>31535</td>\n",
       "      <td>...</td>\n",
       "      <td>9.0</td>\n",
       "      <td>19-11-01 10:05</td>\n",
       "      <td>19-11-01 10:15</td>\n",
       "      <td>-23.467831</td>\n",
       "      <td>-46.512223</td>\n",
       "      <td>10211.0</td>\n",
       "      <td>14281</td>\n",
       "      <td>9.850000</td>\n",
       "      <td>129.6000</td>\n",
       "      <td>10</td>\n",
       "    </tr>\n",
       "    <tr>\n",
       "      <th>4</th>\n",
       "      <td>4</td>\n",
       "      <td>a50ada6f391a4fcacdfc7072653f078f</td>\n",
       "      <td>f4e0f38852ef321b7989a87a9639e419</td>\n",
       "      <td>19-11-06 06:10</td>\n",
       "      <td>19-11-06 06:14</td>\n",
       "      <td>NaN</td>\n",
       "      <td>19-11-06 06:14</td>\n",
       "      <td>19-11-06 08:51</td>\n",
       "      <td>finished</td>\n",
       "      <td>74262</td>\n",
       "      <td>...</td>\n",
       "      <td>9.0</td>\n",
       "      <td>19-11-06 06:45</td>\n",
       "      <td>19-11-06 07:13</td>\n",
       "      <td>-23.467841</td>\n",
       "      <td>-46.512218</td>\n",
       "      <td>9413.0</td>\n",
       "      <td>16668</td>\n",
       "      <td>27.916667</td>\n",
       "      <td>149.3666</td>\n",
       "      <td>13</td>\n",
       "    </tr>\n",
       "  </tbody>\n",
       "</table>\n",
       "<p>5 rows × 25 columns</p>\n",
       "</div>"
      ],
      "text/plain": [
       "   Unnamed: 0                      itinerary_id  \\\n",
       "0           0  59bf54f6d9bf16ab8c76578f8b03e8bb   \n",
       "1           1  9b9a4cad11ae393b832277b447f1a968   \n",
       "2           2  542d9fe1c00d45cb1e450adfea35521f   \n",
       "3           3  9881771a89ba0ea95eef7130598aea25   \n",
       "4           4  a50ada6f391a4fcacdfc7072653f078f   \n",
       "\n",
       "                          driver_id         created        accepted dropped  \\\n",
       "0  5e506cfcfb7cd4d3181b6abba4c76456  19-12-19 09:00  19-12-19 09:05     NaN   \n",
       "1  8d29dd0def2357eff973b20241ee8e4f  19-10-14 07:30  19-10-14 07:31     NaN   \n",
       "2  a26395e55f7dfbe49c6154b9984f259f  19-10-10 15:13  19-10-10 15:16     NaN   \n",
       "3  fe0ebd7aa7e18d71b961a0ccbb8d6319  19-11-01 09:13  19-11-01 09:14     NaN   \n",
       "4  f4e0f38852ef321b7989a87a9639e419  19-11-06 06:10  19-11-06 06:14     NaN   \n",
       "\n",
       "          started        finished    status  total_distance  ...  \\\n",
       "0  19-12-19 09:05  19-12-19 11:16  finished           43434  ...   \n",
       "1  19-10-14 07:31  19-10-14 08:50  finished           32207  ...   \n",
       "2  19-10-10 15:16  19-10-10 15:59  finished           18853  ...   \n",
       "3  19-11-01 09:14  19-11-01 12:04  finished           31535  ...   \n",
       "4  19-11-06 06:14  19-11-06 08:51  finished           74262  ...   \n",
       "\n",
       "  delivered_packages   checked_in_at pickup_checkout_at  pickup_lat  \\\n",
       "0                5.0  19-12-19 09:43     19-12-19 09:45  -23.467847   \n",
       "1                9.0  19-10-14 07:32     19-10-14 07:35  -23.467853   \n",
       "2                1.0  19-10-10 15:17     19-10-10 15:22  -23.467844   \n",
       "3                9.0  19-11-01 10:05     19-11-01 10:15  -23.467831   \n",
       "4                9.0  19-11-06 06:45     19-11-06 07:13  -23.467841   \n",
       "\n",
       "   pickup_lng  real_completion_time pickup_distance pickup_time  \\\n",
       "0  -46.512231                7833.0            5837    1.933333   \n",
       "1  -46.512247                4764.0            1524    3.666667   \n",
       "2  -46.512233                2598.0           18853    5.350000   \n",
       "3  -46.512223               10211.0           14281    9.850000   \n",
       "4  -46.512218                9413.0           16668   27.916667   \n",
       "\n",
       "   check_in_time  waypoints  \n",
       "0       142.1000         11  \n",
       "1       179.0666         14  \n",
       "2       179.5833          2  \n",
       "3       129.6000         10  \n",
       "4       149.3666         13  \n",
       "\n",
       "[5 rows x 25 columns]"
      ]
     },
     "execution_count": 3,
     "metadata": {},
     "output_type": "execute_result"
    }
   ],
   "source": [
    "df = pd.read_csv(files[2])\n",
    "print(df.info())\n",
    "df.head()"
   ]
  },
  {
   "cell_type": "code",
   "execution_count": 4,
   "metadata": {},
   "outputs": [
    {
     "data": {
      "text/plain": [
       "Unnamed: 0              20991\n",
       "itinerary_id            20991\n",
       "driver_id                1610\n",
       "created                 13085\n",
       "accepted                13739\n",
       "dropped                   948\n",
       "started                 13621\n",
       "finished                16306\n",
       "status                      9\n",
       "total_distance          17603\n",
       "transport_type              2\n",
       "product                     1\n",
       "product_version             2\n",
       "distribution_center1        1\n",
       "packages                   46\n",
       "delivered_packages         46\n",
       "checked_in_at           14528\n",
       "pickup_checkout_at      15259\n",
       "pickup_lat              20723\n",
       "pickup_lng              20723\n",
       "real_completion_time    11188\n",
       "pickup_distance          8430\n",
       "pickup_time              2220\n",
       "check_in_time            4113\n",
       "waypoints                  48\n",
       "dtype: int64"
      ]
     },
     "execution_count": 4,
     "metadata": {},
     "output_type": "execute_result"
    }
   ],
   "source": [
    "df.nunique()"
   ]
  },
  {
   "cell_type": "code",
   "execution_count": 12,
   "metadata": {},
   "outputs": [
    {
     "data": {
      "text/plain": [
       "Unnamed: 0                  0\n",
       "itinerary_id                0\n",
       "driver_id                2707\n",
       "created                     0\n",
       "accepted                 2707\n",
       "dropped                 19413\n",
       "started                  2858\n",
       "finished                 1989\n",
       "status                      0\n",
       "total_distance              0\n",
       "transport_type              0\n",
       "product                     0\n",
       "product_version             0\n",
       "distribution_center1        0\n",
       "packages                 2841\n",
       "delivered_packages       2841\n",
       "checked_in_at            2922\n",
       "pickup_checkout_at       3081\n",
       "pickup_lat                268\n",
       "pickup_lng                268\n",
       "real_completion_time     3052\n",
       "pickup_distance             0\n",
       "pickup_time              3091\n",
       "check_in_time            2939\n",
       "waypoints                   0\n",
       "dtype: int64"
      ]
     },
     "execution_count": 12,
     "metadata": {},
     "output_type": "execute_result"
    }
   ],
   "source": [
    "df.isnull().sum()"
   ]
  },
  {
   "cell_type": "code",
   "execution_count": 85,
   "metadata": {},
   "outputs": [
    {
     "name": "stdout",
     "output_type": "stream",
     "text": [
      "to_datetime(created)...\n",
      "to_datetime(accepted)...\n",
      "to_datetime(dropped)...\n",
      "to_datetime(started)...\n",
      "to_datetime(finished)...\n",
      "to_datetime(checked_in_at)...\n",
      "to_datetime(pickup_checkout_at)...\n"
     ]
    }
   ],
   "source": [
    "date_columns = ['created', 'accepted', 'dropped', 'started', 'finished', 'checked_in_at', 'pickup_checkout_at']\n",
    "for col in date_columns:\n",
    "    print('to_datetime({})...'.format(col))\n",
    "    df[col] = pd.to_datetime(df[col], format='%y-%m-%d %H:%M')    "
   ]
  },
  {
   "cell_type": "code",
   "execution_count": 124,
   "metadata": {},
   "outputs": [
    {
     "data": {
      "text/plain": [
       "<matplotlib.axes._subplots.AxesSubplot at 0x23bfeedf2b0>"
      ]
     },
     "execution_count": 124,
     "metadata": {},
     "output_type": "execute_result"
    },
    {
     "data": {
      "image/png": "[encoded data removed]",
      "text/plain": [
       "<Figure size 432x288 with 1 Axes>"
      ]
     },
     "metadata": {
      "needs_background": "light"
     },
     "output_type": "display_data"
    }
   ],
   "source": [
    "df[(df.status == 'finished')].groupby(df['finished'].dt.hour)['itinerary_id'].count().plot()"
   ]
  },
  {
   "cell_type": "code",
   "execution_count": null,
   "metadata": {},
   "outputs": [],
   "source": []
  }
 ],
 "metadata": {
  "kernelspec": {
   "display_name": "Python 3",
   "language": "python",
   "name": "python3"
  },
  "language_info": {
   "codemirror_mode": {
    "name": "ipython",
    "version": 3
   },
   "file_extension": ".py",
   "mimetype": "text/x-python",
   "name": "python",
   "nbconvert_exporter": "python",
   "pygments_lexer": "ipython3",
   "version": "3.8.2"
  }
 },
 "nbformat": 4,
 "nbformat_minor": 4
}
