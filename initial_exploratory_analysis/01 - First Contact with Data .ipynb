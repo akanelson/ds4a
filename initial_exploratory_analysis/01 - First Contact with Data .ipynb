{
 "cells": [
  {
   "cell_type": "markdown",
   "metadata": {},
   "source": [
    "# First Contact with Data"
   ]
  },
  {
   "cell_type": "code",
   "execution_count": 3,
   "metadata": {},
   "outputs": [],
   "source": [
    "%matplotlib inline\n",
    "import pandas as pd\n",
    "import random\n",
    "import matplotlib.pyplot as plt\n",
    "import os\n",
    "import practicum_utils as utils"
   ]
  },
  {
   "cell_type": "code",
   "execution_count": 76,
   "metadata": {},
   "outputs": [
    {
     "data": {
      "text/plain": [
       "['./data/supply/availability_dist1_ano.csv',\n",
       " './data/supply/availability_dist2_ano.csv',\n",
       " './data/supply/itinerary_dist1_ano.csv',\n",
       " './data/supply/itinerary_dist2_ano.csv']"
      ]
     },
     "execution_count": 76,
     "metadata": {},
     "output_type": "execute_result"
    }
   ],
   "source": [
    "files = utils.get_loggi_files()\n",
    "files"
   ]
  },
  {
   "cell_type": "code",
   "execution_count": 5,
   "metadata": {},
   "outputs": [
    {
     "name": "stdout",
     "output_type": "stream",
     "text": [
      "*********************** [Filepath: ./data/supply/availability_dist1_ano.csv] ***********************\n",
      "Size: 830.32 MB\n",
      "Warning: 1 null column/s found\n",
      "- 1st line: ,id,driver_id,itinerary_id,lat,lng,sent,transport_type\n",
      "- 2nd line: 0,eaae5e04a259d09af85c108fe4d7dd0c,3d73b94a1b27fbac9fcf22ed243127e3,,-23.453137798633097,-46.52127405519188,19-10-22 13:35,1\n",
      "Columns 7:\n",
      "id\n",
      "driver_id\n",
      "itinerary_id\n",
      "lat\n",
      "lng\n",
      "sent\n",
      "transport_type\n",
      "\n",
      "*********************** [Filepath: ./data/supply/availability_dist2_ano.csv] ***********************\n",
      "Size: 1.86 GB\n",
      "Warning: 1 null column/s found\n",
      "- 1st line: ,id,driver_id,itinerary_id,lat,lng,sent,transport_type\n",
      "- 2nd line: 0,c133fb1bb634af68c5088f3438848bfd,e584bd1926df576b6c47ef4a319e432f,,-23.598108456029458,-46.599444750171024,19-10-22 13:35,1\n",
      "Columns 7:\n",
      "id\n",
      "driver_id\n",
      "itinerary_id\n",
      "lat\n",
      "lng\n",
      "sent\n",
      "transport_type\n",
      "\n",
      "************************ [Filepath: ./data/supply/itinerary_dist1_ano.csv] *************************\n",
      "Size: 5.26 MB\n",
      "Warning: 1 null column/s found\n",
      "- 1st line: ,itinerary_id,driver_id,created,accepted,dropped,started,finished,status,total_distance,transport_type,product,product_version,distribution_center1,packages,delivered_packages,checked_in_at,pickup_checkout_at,pickup_lat,pickup_lng,real_completion_time,pickup_distance,pickup_time,check_in_time,waypoints\n",
      "- 2nd line: 0,59bf54f6d9bf16ab8c76578f8b03e8bb,5e506cfcfb7cd4d3181b6abba4c76456,19-12-19 09:00,19-12-19 09:05,,19-12-19 09:05,19-12-19 11:16,finished,43434,Moto,Pro,Start,1,9.0,5.0,19-12-19 09:43,19-12-19 09:45,-23.467847181885737,-46.51223063153998,7833.0,5837,1.9333333333333331,142.1,11\n",
      "Columns 24:\n",
      "itinerary_id\n",
      "driver_id\n",
      "created\n",
      "accepted\n",
      "dropped\n",
      "started\n",
      "finished\n",
      "status\n",
      "total_distance\n",
      "transport_type\n",
      "product\n",
      "product_version\n",
      "distribution_center1\n",
      "packages\n",
      "delivered_packages\n",
      "checked_in_at\n",
      "pickup_checkout_at\n",
      "pickup_lat\n",
      "pickup_lng\n",
      "real_completion_time\n",
      "pickup_distance\n",
      "pickup_time\n",
      "check_in_time\n",
      "waypoints\n",
      "\n",
      "************************ [Filepath: ./data/supply/itinerary_dist2_ano.csv] *************************\n",
      "Size: 3.19 MB\n",
      "Warning: 1 null column/s found\n",
      "- 1st line: ,itinerary_id,driver_id,created,accepted,dropped,started,finished,status,total_distance,transport_type,product,product_version,distribution_center1,packages,delivered_packages,checked_in_at,pickup_checkout_at,pickup_lat,pickup_lng,real_completion_time,pickup_distance,pickup_time,check_in_time,waypoints\n",
      "- 2nd line: 0,e9ac33c099c6a6ccd54ebd3869e9f70f,17c7708984013e2e80a58d373f6f01ec,19-12-19 10:12,19-12-19 10:13,,19-12-19 10:13,19-12-19 13:15,finished,95256,Moto,Pro,Start,2,17.0,16.0,19-12-19 10:13,19-12-19 10:23,-23.609481974019893,-46.56796358275614,10918.0,2096,9.7,179.6,19\n",
      "Columns 24:\n",
      "itinerary_id\n",
      "driver_id\n",
      "created\n",
      "accepted\n",
      "dropped\n",
      "started\n",
      "finished\n",
      "status\n",
      "total_distance\n",
      "transport_type\n",
      "product\n",
      "product_version\n",
      "distribution_center1\n",
      "packages\n",
      "delivered_packages\n",
      "checked_in_at\n",
      "pickup_checkout_at\n",
      "pickup_lat\n",
      "pickup_lng\n",
      "real_completion_time\n",
      "pickup_distance\n",
      "pickup_time\n",
      "check_in_time\n",
      "waypoints\n",
      "\n"
     ]
    }
   ],
   "source": [
    "for f in files:\n",
    "    print('{:*^100}'.format(' [Filepath: {}] '.format(f)))\n",
    "    units = ['Bytes', 'KB', 'MB', 'GB', 'TB']\n",
    "    s = os.stat(f).st_size\n",
    "    while s/1024 > 1:\n",
    "        s /= 1024\n",
    "        units = units[1:-1] + [units[0]]\n",
    "    print('Size: {:.2f} {}'.format(s, units[0]))\n",
    "    h = open(f, 'r')\n",
    "    line = h.readline().strip()\n",
    "    cols = line.split(',')\n",
    "    if sum([1 for c in cols if len(c) == 0]) > 0:\n",
    "        print('Warning: {} null column/s found'.format(sum([1 for c in cols if len(c) == 0])))\n",
    "        print('- 1st line:', line)  \n",
    "        print('- 2nd line:', h.readline().strip())\n",
    "    \n",
    "    cols = [c.strip() for c in cols if len(c) > 0]\n",
    "    print('Columns {}:\\n{}'.format(len(cols), '\\n'.join(cols)))\n",
    "    h.close()\n",
    "    print()"
   ]
  },
  {
   "cell_type": "markdown",
   "metadata": {},
   "source": [
    "**First comments:**\n",
    "- Availability files are big and will not be easily to work with them using pandas  \n",
    "  We should analyze to upload all CSV to a DB (may be MySQL)\n",
    "- All files header starts with an invalid character: '*,*' (comma)  \n",
    "  We should check if all rows have this character. Looks like some kind of a 'auto-typo'\n",
    "- It could be worthly to create a file utils.py to be used in all jupyter notebooks and python scripts"
   ]
  },
  {
   "cell_type": "code",
   "execution_count": 6,
   "metadata": {},
   "outputs": [
    {
     "name": "stdout",
     "output_type": "stream",
     "text": [
      "*********************** [Filepath: ./data/supply/availability_dist1_ano.csv] ***********************\n",
      "Total Rows: 6549240\n",
      "*********************** [Filepath: ./data/supply/availability_dist2_ano.csv] ***********************\n",
      "Total Rows: 14975949\n",
      "************************ [Filepath: ./data/supply/itinerary_dist1_ano.csv] *************************\n",
      "Total Rows: 20992\n",
      "************************ [Filepath: ./data/supply/itinerary_dist2_ano.csv] *************************\n",
      "Total Rows: 12425\n"
     ]
    }
   ],
   "source": [
    "for f in files:\n",
    "    print('{:*^100}'.format(' [Filepath: {}] '.format(f)))\n",
    "    h = open(f, 'r')\n",
    "    for i, l in enumerate(h):\n",
    "        pass\n",
    "    print('Total Rows:', i+1)\n",
    "    h.close()"
   ]
  },
  {
   "cell_type": "code",
   "execution_count": null,
   "metadata": {},
   "outputs": [],
   "source": []
  }
 ],
 "metadata": {
  "kernelspec": {
   "display_name": "Python 3",
   "language": "python",
   "name": "python3"
  },
  "language_info": {
   "codemirror_mode": {
    "name": "ipython",
    "version": 3
   },
   "file_extension": ".py",
   "mimetype": "text/x-python",
   "name": "python",
   "nbconvert_exporter": "python",
   "pygments_lexer": "ipython3",
   "version": "3.8.2"
  }
 },
 "nbformat": 4,
 "nbformat_minor": 4
}
